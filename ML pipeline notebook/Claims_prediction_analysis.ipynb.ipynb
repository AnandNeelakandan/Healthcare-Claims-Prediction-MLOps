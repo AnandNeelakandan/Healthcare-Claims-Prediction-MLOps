{
  "cells": [
    {
      "cell_type": "markdown",
      "source": [
        "***Project Introduction and Motivation***\n",
        "\n",
        "***Project Goal: Predicting Medical Claim Outcomes***\n",
        "* ***This project focuses on a core challenge in US healthcare finance: predicting the final status of a medical claim.***\n",
        "\n",
        "*  ***When US citizens visit a healthcare provider, the provider submits a claim to the patient's insurance company (the payer). If the treatment cost exceeds a small patient co-payment, the claim must be processed by the insurer. Our mission is to accurately predict the outcome of this process using machine learning.***\n",
        "\n",
        "***We are predicting the claim's status into one of three critical categories:***\n",
        "\n",
        "* ***Paid: The claim is approved and settled by the payer.***\n",
        "* ***Denied: The claim is rejected, often due to missing documentation or coding errors.***\n",
        "* ***Pending: The claim is held up, requiring further review or information.***\n",
        "\n",
        "***The main hurdle was finding a realistic dataset. I solved this by first designing the comprehensive business rules and logic (covering eligibility, late filing, and billing discrepancies) and then implementing a synthetic data generator using Python with assistance from an AI coding tool.***\n",
        "\n",
        "***Using this realistic data, we are applying advanced algorithms—specifically Random Forest, XGBoost, and an Artificial Neural Network (ANN)—to build a powerful predictive model.***\n"
      ],
      "metadata": {
        "id": "gG-jU3NcNXcW"
      }
    },
    {
      "cell_type": "markdown",
      "metadata": {
        "id": "NYL-aqyVHYK7"
      },
      "source": [
        "***Step 1: Importing Libraries - Setting up the ML Toolbox***"
      ]
    },
    {
      "cell_type": "code",
      "execution_count": null,
      "metadata": {
        "id": "mtLErK6a05BI"
      },
      "outputs": [],
      "source": [
        "# Standard Data Handling and Math\n",
        "import pandas as pd\n",
        "import numpy as np\n",
        "\n",
        "# Data Visualization (Crucial for EDA)\n",
        "import matplotlib.pyplot as plt\n",
        "import seaborn as sns\n",
        "\n",
        "# Preprocessing and Splitting\n",
        "from sklearn.model_selection import train_test_split\n",
        "from sklearn.preprocessing import StandardScaler, LabelEncoder\n",
        "from imblearn.over_sampling import SMOTE # Used for handling imbalanced data\n",
        "\n",
        "# Machine Learning Models\n",
        "from sklearn.ensemble import RandomForestClassifier\n",
        "from xgboost import XGBClassifier\n",
        "\n",
        "# Neural Network (Keras/TensorFlow)\n",
        "import tensorflow as tf\n",
        "from tensorflow.keras.models import Sequential\n",
        "from tensorflow.keras.layers import Dense, Dropout\n",
        "from tensorflow.keras.utils import to_categorical\n",
        "\n",
        "# Model Evaluation Metrics\n",
        "from sklearn.metrics import accuracy_score, classification_report, confusion_matrix"
      ]
    },
    {
      "cell_type": "markdown",
      "metadata": {
        "id": "0xoFgYo8Q0wm"
      },
      "source": [
        "***Step 2: Load the dataset from drive***"
      ]
    },
    {
      "cell_type": "code",
      "execution_count": null,
      "metadata": {
        "colab": {
          "base_uri": "https://localhost:8080/",
          "height": 293
        },
        "id": "B2rD5wL7IVn7",
        "outputId": "cb4796ff-b9a6-4d63-e160-7799ca32ad75"
      },
      "outputs": [
        {
          "output_type": "execute_result",
          "data": {
            "text/plain": [
              "                                ClaimID MemberID ProviderNPI  AccountNum  \\\n",
              "0  cc85ba35-976f-4b9b-a20e-db0116fa458b   M02994       P0468      262944   \n",
              "1  7e1f1e53-d3ac-4ba9-81fa-797aed947b6d   M04487       P0527      721054   \n",
              "2  242e8a36-3dc4-4636-bbdf-d5e996123b35   M04672       P0577      887824   \n",
              "3  8d62fcdd-1f5f-4acb-aca2-105d84f70008   M04896       P0579      985889   \n",
              "4  07e82a6e-d8d6-438e-8f3d-91d2cc1723e1   M02676       P0041      916871   \n",
              "\n",
              "   TaxID DateOfService  BilledAmount  AllowedAmount  Is_Out_Of_Network  \\\n",
              "0  18181    2023-01-01   5966.621342    5648.867813              False   \n",
              "1  29300    2023-02-03  10728.760158   10172.484782              False   \n",
              "2  53800    2023-12-10   8202.066506    5194.960300               True   \n",
              "3  17618    2023-01-11   9287.788171    8777.170514              False   \n",
              "4  90543    2023-05-06  12218.887462   11394.763581              False   \n",
              "\n",
              "   Days_to_File  Is_Policy_Active  PatientAge PatientGender ProviderSpecialty  \\\n",
              "0            41              True          19             M  Physical Therapy   \n",
              "1            45              True          41             F         Radiology   \n",
              "2             0              True          11             F  Physical Therapy   \n",
              "3             0              True          53             F         Radiology   \n",
              "4             0              True          33             F        Cardiology   \n",
              "\n",
              "  ClaimStatus  \n",
              "0     Pending  \n",
              "1     Pending  \n",
              "2     Pending  \n",
              "3        Paid  \n",
              "4        Paid  "
            ],
            "text/html": [
              "\n",
              "  <div id=\"df-d0a05d67-1bcb-450f-a386-681f759de530\" class=\"colab-df-container\">\n",
              "    <div>\n",
              "<style scoped>\n",
              "    .dataframe tbody tr th:only-of-type {\n",
              "        vertical-align: middle;\n",
              "    }\n",
              "\n",
              "    .dataframe tbody tr th {\n",
              "        vertical-align: top;\n",
              "    }\n",
              "\n",
              "    .dataframe thead th {\n",
              "        text-align: right;\n",
              "    }\n",
              "</style>\n",
              "<table border=\"1\" class=\"dataframe\">\n",
              "  <thead>\n",
              "    <tr style=\"text-align: right;\">\n",
              "      <th></th>\n",
              "      <th>ClaimID</th>\n",
              "      <th>MemberID</th>\n",
              "      <th>ProviderNPI</th>\n",
              "      <th>AccountNum</th>\n",
              "      <th>TaxID</th>\n",
              "      <th>DateOfService</th>\n",
              "      <th>BilledAmount</th>\n",
              "      <th>AllowedAmount</th>\n",
              "      <th>Is_Out_Of_Network</th>\n",
              "      <th>Days_to_File</th>\n",
              "      <th>Is_Policy_Active</th>\n",
              "      <th>PatientAge</th>\n",
              "      <th>PatientGender</th>\n",
              "      <th>ProviderSpecialty</th>\n",
              "      <th>ClaimStatus</th>\n",
              "    </tr>\n",
              "  </thead>\n",
              "  <tbody>\n",
              "    <tr>\n",
              "      <th>0</th>\n",
              "      <td>cc85ba35-976f-4b9b-a20e-db0116fa458b</td>\n",
              "      <td>M02994</td>\n",
              "      <td>P0468</td>\n",
              "      <td>262944</td>\n",
              "      <td>18181</td>\n",
              "      <td>2023-01-01</td>\n",
              "      <td>5966.621342</td>\n",
              "      <td>5648.867813</td>\n",
              "      <td>False</td>\n",
              "      <td>41</td>\n",
              "      <td>True</td>\n",
              "      <td>19</td>\n",
              "      <td>M</td>\n",
              "      <td>Physical Therapy</td>\n",
              "      <td>Pending</td>\n",
              "    </tr>\n",
              "    <tr>\n",
              "      <th>1</th>\n",
              "      <td>7e1f1e53-d3ac-4ba9-81fa-797aed947b6d</td>\n",
              "      <td>M04487</td>\n",
              "      <td>P0527</td>\n",
              "      <td>721054</td>\n",
              "      <td>29300</td>\n",
              "      <td>2023-02-03</td>\n",
              "      <td>10728.760158</td>\n",
              "      <td>10172.484782</td>\n",
              "      <td>False</td>\n",
              "      <td>45</td>\n",
              "      <td>True</td>\n",
              "      <td>41</td>\n",
              "      <td>F</td>\n",
              "      <td>Radiology</td>\n",
              "      <td>Pending</td>\n",
              "    </tr>\n",
              "    <tr>\n",
              "      <th>2</th>\n",
              "      <td>242e8a36-3dc4-4636-bbdf-d5e996123b35</td>\n",
              "      <td>M04672</td>\n",
              "      <td>P0577</td>\n",
              "      <td>887824</td>\n",
              "      <td>53800</td>\n",
              "      <td>2023-12-10</td>\n",
              "      <td>8202.066506</td>\n",
              "      <td>5194.960300</td>\n",
              "      <td>True</td>\n",
              "      <td>0</td>\n",
              "      <td>True</td>\n",
              "      <td>11</td>\n",
              "      <td>F</td>\n",
              "      <td>Physical Therapy</td>\n",
              "      <td>Pending</td>\n",
              "    </tr>\n",
              "    <tr>\n",
              "      <th>3</th>\n",
              "      <td>8d62fcdd-1f5f-4acb-aca2-105d84f70008</td>\n",
              "      <td>M04896</td>\n",
              "      <td>P0579</td>\n",
              "      <td>985889</td>\n",
              "      <td>17618</td>\n",
              "      <td>2023-01-11</td>\n",
              "      <td>9287.788171</td>\n",
              "      <td>8777.170514</td>\n",
              "      <td>False</td>\n",
              "      <td>0</td>\n",
              "      <td>True</td>\n",
              "      <td>53</td>\n",
              "      <td>F</td>\n",
              "      <td>Radiology</td>\n",
              "      <td>Paid</td>\n",
              "    </tr>\n",
              "    <tr>\n",
              "      <th>4</th>\n",
              "      <td>07e82a6e-d8d6-438e-8f3d-91d2cc1723e1</td>\n",
              "      <td>M02676</td>\n",
              "      <td>P0041</td>\n",
              "      <td>916871</td>\n",
              "      <td>90543</td>\n",
              "      <td>2023-05-06</td>\n",
              "      <td>12218.887462</td>\n",
              "      <td>11394.763581</td>\n",
              "      <td>False</td>\n",
              "      <td>0</td>\n",
              "      <td>True</td>\n",
              "      <td>33</td>\n",
              "      <td>F</td>\n",
              "      <td>Cardiology</td>\n",
              "      <td>Paid</td>\n",
              "    </tr>\n",
              "  </tbody>\n",
              "</table>\n",
              "</div>\n",
              "    <div class=\"colab-df-buttons\">\n",
              "\n",
              "  <div class=\"colab-df-container\">\n",
              "    <button class=\"colab-df-convert\" onclick=\"convertToInteractive('df-d0a05d67-1bcb-450f-a386-681f759de530')\"\n",
              "            title=\"Convert this dataframe to an interactive table.\"\n",
              "            style=\"display:none;\">\n",
              "\n",
              "  <svg xmlns=\"http://www.w3.org/2000/svg\" height=\"24px\" viewBox=\"0 -960 960 960\">\n",
              "    <path d=\"M120-120v-720h720v720H120Zm60-500h600v-160H180v160Zm220 220h160v-160H400v160Zm0 220h160v-160H400v160ZM180-400h160v-160H180v160Zm440 0h160v-160H620v160ZM180-180h160v-160H180v160Zm440 0h160v-160H620v160Z\"/>\n",
              "  </svg>\n",
              "    </button>\n",
              "\n",
              "  <style>\n",
              "    .colab-df-container {\n",
              "      display:flex;\n",
              "      gap: 12px;\n",
              "    }\n",
              "\n",
              "    .colab-df-convert {\n",
              "      background-color: #E8F0FE;\n",
              "      border: none;\n",
              "      border-radius: 50%;\n",
              "      cursor: pointer;\n",
              "      display: none;\n",
              "      fill: #1967D2;\n",
              "      height: 32px;\n",
              "      padding: 0 0 0 0;\n",
              "      width: 32px;\n",
              "    }\n",
              "\n",
              "    .colab-df-convert:hover {\n",
              "      background-color: #E2EBFA;\n",
              "      box-shadow: 0px 1px 2px rgba(60, 64, 67, 0.3), 0px 1px 3px 1px rgba(60, 64, 67, 0.15);\n",
              "      fill: #174EA6;\n",
              "    }\n",
              "\n",
              "    .colab-df-buttons div {\n",
              "      margin-bottom: 4px;\n",
              "    }\n",
              "\n",
              "    [theme=dark] .colab-df-convert {\n",
              "      background-color: #3B4455;\n",
              "      fill: #D2E3FC;\n",
              "    }\n",
              "\n",
              "    [theme=dark] .colab-df-convert:hover {\n",
              "      background-color: #434B5C;\n",
              "      box-shadow: 0px 1px 3px 1px rgba(0, 0, 0, 0.15);\n",
              "      filter: drop-shadow(0px 1px 2px rgba(0, 0, 0, 0.3));\n",
              "      fill: #FFFFFF;\n",
              "    }\n",
              "  </style>\n",
              "\n",
              "    <script>\n",
              "      const buttonEl =\n",
              "        document.querySelector('#df-d0a05d67-1bcb-450f-a386-681f759de530 button.colab-df-convert');\n",
              "      buttonEl.style.display =\n",
              "        google.colab.kernel.accessAllowed ? 'block' : 'none';\n",
              "\n",
              "      async function convertToInteractive(key) {\n",
              "        const element = document.querySelector('#df-d0a05d67-1bcb-450f-a386-681f759de530');\n",
              "        const dataTable =\n",
              "          await google.colab.kernel.invokeFunction('convertToInteractive',\n",
              "                                                    [key], {});\n",
              "        if (!dataTable) return;\n",
              "\n",
              "        const docLinkHtml = 'Like what you see? Visit the ' +\n",
              "          '<a target=\"_blank\" href=https://colab.research.google.com/notebooks/data_table.ipynb>data table notebook</a>'\n",
              "          + ' to learn more about interactive tables.';\n",
              "        element.innerHTML = '';\n",
              "        dataTable['output_type'] = 'display_data';\n",
              "        await google.colab.output.renderOutput(dataTable, element);\n",
              "        const docLink = document.createElement('div');\n",
              "        docLink.innerHTML = docLinkHtml;\n",
              "        element.appendChild(docLink);\n",
              "      }\n",
              "    </script>\n",
              "  </div>\n",
              "\n",
              "\n",
              "    <div id=\"df-3c2fd085-001c-4258-bc60-6fc42ed5944c\">\n",
              "      <button class=\"colab-df-quickchart\" onclick=\"quickchart('df-3c2fd085-001c-4258-bc60-6fc42ed5944c')\"\n",
              "                title=\"Suggest charts\"\n",
              "                style=\"display:none;\">\n",
              "\n",
              "<svg xmlns=\"http://www.w3.org/2000/svg\" height=\"24px\"viewBox=\"0 0 24 24\"\n",
              "     width=\"24px\">\n",
              "    <g>\n",
              "        <path d=\"M19 3H5c-1.1 0-2 .9-2 2v14c0 1.1.9 2 2 2h14c1.1 0 2-.9 2-2V5c0-1.1-.9-2-2-2zM9 17H7v-7h2v7zm4 0h-2V7h2v10zm4 0h-2v-4h2v4z\"/>\n",
              "    </g>\n",
              "</svg>\n",
              "      </button>\n",
              "\n",
              "<style>\n",
              "  .colab-df-quickchart {\n",
              "      --bg-color: #E8F0FE;\n",
              "      --fill-color: #1967D2;\n",
              "      --hover-bg-color: #E2EBFA;\n",
              "      --hover-fill-color: #174EA6;\n",
              "      --disabled-fill-color: #AAA;\n",
              "      --disabled-bg-color: #DDD;\n",
              "  }\n",
              "\n",
              "  [theme=dark] .colab-df-quickchart {\n",
              "      --bg-color: #3B4455;\n",
              "      --fill-color: #D2E3FC;\n",
              "      --hover-bg-color: #434B5C;\n",
              "      --hover-fill-color: #FFFFFF;\n",
              "      --disabled-bg-color: #3B4455;\n",
              "      --disabled-fill-color: #666;\n",
              "  }\n",
              "\n",
              "  .colab-df-quickchart {\n",
              "    background-color: var(--bg-color);\n",
              "    border: none;\n",
              "    border-radius: 50%;\n",
              "    cursor: pointer;\n",
              "    display: none;\n",
              "    fill: var(--fill-color);\n",
              "    height: 32px;\n",
              "    padding: 0;\n",
              "    width: 32px;\n",
              "  }\n",
              "\n",
              "  .colab-df-quickchart:hover {\n",
              "    background-color: var(--hover-bg-color);\n",
              "    box-shadow: 0 1px 2px rgba(60, 64, 67, 0.3), 0 1px 3px 1px rgba(60, 64, 67, 0.15);\n",
              "    fill: var(--button-hover-fill-color);\n",
              "  }\n",
              "\n",
              "  .colab-df-quickchart-complete:disabled,\n",
              "  .colab-df-quickchart-complete:disabled:hover {\n",
              "    background-color: var(--disabled-bg-color);\n",
              "    fill: var(--disabled-fill-color);\n",
              "    box-shadow: none;\n",
              "  }\n",
              "\n",
              "  .colab-df-spinner {\n",
              "    border: 2px solid var(--fill-color);\n",
              "    border-color: transparent;\n",
              "    border-bottom-color: var(--fill-color);\n",
              "    animation:\n",
              "      spin 1s steps(1) infinite;\n",
              "  }\n",
              "\n",
              "  @keyframes spin {\n",
              "    0% {\n",
              "      border-color: transparent;\n",
              "      border-bottom-color: var(--fill-color);\n",
              "      border-left-color: var(--fill-color);\n",
              "    }\n",
              "    20% {\n",
              "      border-color: transparent;\n",
              "      border-left-color: var(--fill-color);\n",
              "      border-top-color: var(--fill-color);\n",
              "    }\n",
              "    30% {\n",
              "      border-color: transparent;\n",
              "      border-left-color: var(--fill-color);\n",
              "      border-top-color: var(--fill-color);\n",
              "      border-right-color: var(--fill-color);\n",
              "    }\n",
              "    40% {\n",
              "      border-color: transparent;\n",
              "      border-right-color: var(--fill-color);\n",
              "      border-top-color: var(--fill-color);\n",
              "    }\n",
              "    60% {\n",
              "      border-color: transparent;\n",
              "      border-right-color: var(--fill-color);\n",
              "    }\n",
              "    80% {\n",
              "      border-color: transparent;\n",
              "      border-right-color: var(--fill-color);\n",
              "      border-bottom-color: var(--fill-color);\n",
              "    }\n",
              "    90% {\n",
              "      border-color: transparent;\n",
              "      border-bottom-color: var(--fill-color);\n",
              "    }\n",
              "  }\n",
              "</style>\n",
              "\n",
              "      <script>\n",
              "        async function quickchart(key) {\n",
              "          const quickchartButtonEl =\n",
              "            document.querySelector('#' + key + ' button');\n",
              "          quickchartButtonEl.disabled = true;  // To prevent multiple clicks.\n",
              "          quickchartButtonEl.classList.add('colab-df-spinner');\n",
              "          try {\n",
              "            const charts = await google.colab.kernel.invokeFunction(\n",
              "                'suggestCharts', [key], {});\n",
              "          } catch (error) {\n",
              "            console.error('Error during call to suggestCharts:', error);\n",
              "          }\n",
              "          quickchartButtonEl.classList.remove('colab-df-spinner');\n",
              "          quickchartButtonEl.classList.add('colab-df-quickchart-complete');\n",
              "        }\n",
              "        (() => {\n",
              "          let quickchartButtonEl =\n",
              "            document.querySelector('#df-3c2fd085-001c-4258-bc60-6fc42ed5944c button');\n",
              "          quickchartButtonEl.style.display =\n",
              "            google.colab.kernel.accessAllowed ? 'block' : 'none';\n",
              "        })();\n",
              "      </script>\n",
              "    </div>\n",
              "\n",
              "    </div>\n",
              "  </div>\n"
            ],
            "application/vnd.google.colaboratory.intrinsic+json": {
              "type": "dataframe",
              "variable_name": "data",
              "summary": "{\n  \"name\": \"data\",\n  \"rows\": 10000,\n  \"fields\": [\n    {\n      \"column\": \"ClaimID\",\n      \"properties\": {\n        \"dtype\": \"string\",\n        \"num_unique_values\": 10000,\n        \"samples\": [\n          \"5c402a02-b524-46ff-99ec-4bd133784836\",\n          \"acba7e62-1775-4bb6-8938-d0c923a49d47\",\n          \"71c19f0e-4fa2-4667-8f1d-fd536efb1888\"\n        ],\n        \"semantic_type\": \"\",\n        \"description\": \"\"\n      }\n    },\n    {\n      \"column\": \"MemberID\",\n      \"properties\": {\n        \"dtype\": \"category\",\n        \"num_unique_values\": 4299,\n        \"samples\": [\n          \"M00377\",\n          \"M01028\",\n          \"M02502\"\n        ],\n        \"semantic_type\": \"\",\n        \"description\": \"\"\n      }\n    },\n    {\n      \"column\": \"ProviderNPI\",\n      \"properties\": {\n        \"dtype\": \"category\",\n        \"num_unique_values\": 799,\n        \"samples\": [\n          \"P0497\",\n          \"P0512\",\n          \"P0460\"\n        ],\n        \"semantic_type\": \"\",\n        \"description\": \"\"\n      }\n    },\n    {\n      \"column\": \"AccountNum\",\n      \"properties\": {\n        \"dtype\": \"number\",\n        \"std\": 261157,\n        \"min\": 100259,\n        \"max\": 999919,\n        \"num_unique_values\": 9925,\n        \"samples\": [\n          316428,\n          786086,\n          526859\n        ],\n        \"semantic_type\": \"\",\n        \"description\": \"\"\n      }\n    },\n    {\n      \"column\": \"TaxID\",\n      \"properties\": {\n        \"dtype\": \"number\",\n        \"std\": 25939,\n        \"min\": 10010,\n        \"max\": 99991,\n        \"num_unique_values\": 9469,\n        \"samples\": [\n          92944,\n          21733,\n          21679\n        ],\n        \"semantic_type\": \"\",\n        \"description\": \"\"\n      }\n    },\n    {\n      \"column\": \"DateOfService\",\n      \"properties\": {\n        \"dtype\": \"object\",\n        \"num_unique_values\": 365,\n        \"samples\": [\n          \"2023-08-18\",\n          \"2023-06-03\",\n          \"2023-11-14\"\n        ],\n        \"semantic_type\": \"\",\n        \"description\": \"\"\n      }\n    },\n    {\n      \"column\": \"BilledAmount\",\n      \"properties\": {\n        \"dtype\": \"number\",\n        \"std\": 4204.854637502311,\n        \"min\": 502.3623899117669,\n        \"max\": 14994.941690554013,\n        \"num_unique_values\": 10000,\n        \"samples\": [\n          13165.240695857154,\n          14651.98329078473,\n          5207.997528888061\n        ],\n        \"semantic_type\": \"\",\n        \"description\": \"\"\n      }\n    },\n    {\n      \"column\": \"AllowedAmount\",\n      \"properties\": {\n        \"dtype\": \"number\",\n        \"std\": 3806.8802255668434,\n        \"min\": 283.7786123720381,\n        \"max\": 14209.235696497692,\n        \"num_unique_values\": 10000,\n        \"samples\": [\n          11870.38256387879,\n          13677.934580004034,\n          4719.058035700828\n        ],\n        \"semantic_type\": \"\",\n        \"description\": \"\"\n      }\n    },\n    {\n      \"column\": \"Is_Out_Of_Network\",\n      \"properties\": {\n        \"dtype\": \"boolean\",\n        \"num_unique_values\": 2,\n        \"samples\": [\n          true,\n          false\n        ],\n        \"semantic_type\": \"\",\n        \"description\": \"\"\n      }\n    },\n    {\n      \"column\": \"Days_to_File\",\n      \"properties\": {\n        \"dtype\": \"number\",\n        \"std\": 37,\n        \"min\": 0,\n        \"max\": 255,\n        \"num_unique_values\": 188,\n        \"samples\": [\n          170,\n          197\n        ],\n        \"semantic_type\": \"\",\n        \"description\": \"\"\n      }\n    },\n    {\n      \"column\": \"Is_Policy_Active\",\n      \"properties\": {\n        \"dtype\": \"boolean\",\n        \"num_unique_values\": 2,\n        \"samples\": [\n          false,\n          true\n        ],\n        \"semantic_type\": \"\",\n        \"description\": \"\"\n      }\n    },\n    {\n      \"column\": \"PatientAge\",\n      \"properties\": {\n        \"dtype\": \"number\",\n        \"std\": 25,\n        \"min\": 1,\n        \"max\": 89,\n        \"num_unique_values\": 89,\n        \"samples\": [\n          68,\n          48\n        ],\n        \"semantic_type\": \"\",\n        \"description\": \"\"\n      }\n    },\n    {\n      \"column\": \"PatientGender\",\n      \"properties\": {\n        \"dtype\": \"category\",\n        \"num_unique_values\": 2,\n        \"samples\": [\n          \"F\",\n          \"M\"\n        ],\n        \"semantic_type\": \"\",\n        \"description\": \"\"\n      }\n    },\n    {\n      \"column\": \"ProviderSpecialty\",\n      \"properties\": {\n        \"dtype\": \"category\",\n        \"num_unique_values\": 4,\n        \"samples\": [\n          \"Radiology\",\n          \"Internal Medicine\"\n        ],\n        \"semantic_type\": \"\",\n        \"description\": \"\"\n      }\n    },\n    {\n      \"column\": \"ClaimStatus\",\n      \"properties\": {\n        \"dtype\": \"category\",\n        \"num_unique_values\": 3,\n        \"samples\": [\n          \"Pending\",\n          \"Paid\"\n        ],\n        \"semantic_type\": \"\",\n        \"description\": \"\"\n      }\n    }\n  ]\n}"
            }
          },
          "metadata": {},
          "execution_count": 2
        }
      ],
      "source": [
        "data = pd.read_csv(\"/content/drive/MyDrive/final_claims_data_industry.csv\")\n",
        "data.head()"
      ]
    },
    {
      "cell_type": "markdown",
      "metadata": {
        "id": "czb7qzTTcOl5"
      },
      "source": [
        "***Step 3: Data pre-processing***\n",
        "\n",
        "***Info will show if there are any null values and the data types of each column( No null values )***"
      ]
    },
    {
      "cell_type": "code",
      "execution_count": null,
      "metadata": {
        "colab": {
          "base_uri": "https://localhost:8080/"
        },
        "id": "zuaTT7IkcWEM",
        "outputId": "24256ce0-2bd9-4035-813e-f6ffe59ac7ed"
      },
      "outputs": [
        {
          "output_type": "stream",
          "name": "stdout",
          "text": [
            "<class 'pandas.core.frame.DataFrame'>\n",
            "RangeIndex: 10000 entries, 0 to 9999\n",
            "Data columns (total 15 columns):\n",
            " #   Column             Non-Null Count  Dtype  \n",
            "---  ------             --------------  -----  \n",
            " 0   ClaimID            10000 non-null  object \n",
            " 1   MemberID           10000 non-null  object \n",
            " 2   ProviderNPI        10000 non-null  object \n",
            " 3   AccountNum         10000 non-null  int64  \n",
            " 4   TaxID              10000 non-null  int64  \n",
            " 5   DateOfService      10000 non-null  object \n",
            " 6   BilledAmount       10000 non-null  float64\n",
            " 7   AllowedAmount      10000 non-null  float64\n",
            " 8   Is_Out_Of_Network  10000 non-null  bool   \n",
            " 9   Days_to_File       10000 non-null  int64  \n",
            " 10  Is_Policy_Active   10000 non-null  bool   \n",
            " 11  PatientAge         10000 non-null  int64  \n",
            " 12  PatientGender      10000 non-null  object \n",
            " 13  ProviderSpecialty  10000 non-null  object \n",
            " 14  ClaimStatus        10000 non-null  object \n",
            "dtypes: bool(2), float64(2), int64(4), object(7)\n",
            "memory usage: 1.0+ MB\n"
          ]
        }
      ],
      "source": [
        "data.info()"
      ]
    },
    {
      "cell_type": "markdown",
      "source": [
        "***Step 4: We must first inspect the distribution of our target variable, ClaimStatus Let's check whether it's a single-class or multi-class classification problem***"
      ],
      "metadata": {
        "id": "KforKk-MuBDT"
      }
    },
    {
      "cell_type": "code",
      "source": [
        "data[\"ClaimStatus\"].unique()"
      ],
      "metadata": {
        "colab": {
          "base_uri": "https://localhost:8080/"
        },
        "id": "sJ7S7wmXuBok",
        "outputId": "a12800af-6d23-4aaf-9b1e-db4d2e44a26a"
      },
      "execution_count": null,
      "outputs": [
        {
          "output_type": "execute_result",
          "data": {
            "text/plain": [
              "array(['Pending', 'Paid', 'Denied'], dtype=object)"
            ]
          },
          "metadata": {},
          "execution_count": 4
        }
      ]
    },
    {
      "cell_type": "markdown",
      "source": [
        "***Step 5: Target Variable Distribution***\n",
        "***We found that the dependent variable is a multi-class classification and the class distribution is slightly uneven but acceptable for modeling.***"
      ],
      "metadata": {
        "id": "LKg9tF9Fs0VM"
      }
    },
    {
      "cell_type": "code",
      "source": [
        "data.value_counts(\"ClaimStatus\")"
      ],
      "metadata": {
        "colab": {
          "base_uri": "https://localhost:8080/",
          "height": 210
        },
        "id": "MtCHd8lAsuS5",
        "outputId": "df9c52f0-c998-4937-d91e-d11ff1f495fd"
      },
      "execution_count": null,
      "outputs": [
        {
          "output_type": "execute_result",
          "data": {
            "text/plain": [
              "ClaimStatus\n",
              "Paid       4069\n",
              "Pending    3474\n",
              "Denied     2457\n",
              "Name: count, dtype: int64"
            ],
            "text/html": [
              "<div>\n",
              "<style scoped>\n",
              "    .dataframe tbody tr th:only-of-type {\n",
              "        vertical-align: middle;\n",
              "    }\n",
              "\n",
              "    .dataframe tbody tr th {\n",
              "        vertical-align: top;\n",
              "    }\n",
              "\n",
              "    .dataframe thead th {\n",
              "        text-align: right;\n",
              "    }\n",
              "</style>\n",
              "<table border=\"1\" class=\"dataframe\">\n",
              "  <thead>\n",
              "    <tr style=\"text-align: right;\">\n",
              "      <th></th>\n",
              "      <th>count</th>\n",
              "    </tr>\n",
              "    <tr>\n",
              "      <th>ClaimStatus</th>\n",
              "      <th></th>\n",
              "    </tr>\n",
              "  </thead>\n",
              "  <tbody>\n",
              "    <tr>\n",
              "      <th>Paid</th>\n",
              "      <td>4069</td>\n",
              "    </tr>\n",
              "    <tr>\n",
              "      <th>Pending</th>\n",
              "      <td>3474</td>\n",
              "    </tr>\n",
              "    <tr>\n",
              "      <th>Denied</th>\n",
              "      <td>2457</td>\n",
              "    </tr>\n",
              "  </tbody>\n",
              "</table>\n",
              "</div><br><label><b>dtype:</b> int64</label>"
            ]
          },
          "metadata": {},
          "execution_count": 5
        }
      ]
    },
    {
      "cell_type": "markdown",
      "source": [
        "***Data Visualization - We use a count plot to visualize the counts for Denied, Paid, and Pending claims.***"
      ],
      "metadata": {
        "id": "PvSiXdBdppbR"
      }
    },
    {
      "cell_type": "code",
      "source": [
        "plt.figure(figsize=(7,5))\n",
        "sns.countplot(x=\"ClaimStatus\", data=data, hue=\"ClaimStatus\", palette=[\"lightblue\", \"lightgreen\", \"lightcoral\"])\n",
        "plt.title('Distribution of Claim Status', fontstyle = \"italic\", weight=\"bold\")\n",
        "plt.xlabel(\"Claim Status\", fontstyle = \"italic\", weight=\"bold\")\n",
        "plt.ylabel(\"Count of Distribution\", fontstyle = \"italic\", weight=\"bold\")\n",
        "plt.xticks( fontstyle = \"italic\")\n",
        "plt.yticks( fontstyle = \"italic\")\n",
        "plt.grid(axis='y', linestyle='--', alpha=0.6)\n",
        "plt.tight_layout()\n",
        "plt.show()"
      ],
      "metadata": {
        "colab": {
          "base_uri": "https://localhost:8080/",
          "height": 507
        },
        "id": "yeT5fVydqD7w",
        "outputId": "208b2127-ee6e-46f5-866a-5f333713c71f"
      },
      "execution_count": null,
      "outputs": [
        {
          "output_type": "display_data",
          "data": {
            "text/plain": [
              "<Figure size 700x500 with 1 Axes>"
            ],
            "image/png": "[encoded data removed]"
          },
          "metadata": {}
        }
      ]
    },
    {
      "cell_type": "markdown",
      "metadata": {
        "id": "-rAxXAg6pY_8"
      },
      "source": [
        "*   ***Step 6: Descriptive Statistics***\n",
        "\n",
        "*   ***The describe function gives a statistical summary of all numeric columns. BilledAmount and AllowedAmount show wide ranges and high standard deviations, indicating variability in claim sizes. Days_to_File ranges from 0 to 255, with a median of 25, suggesting some claims are filed very late. PatientAge spans from 1 to 89, with a mean around 45, showing a mix of younger and older patients. This summary helps us understand the scale and spread of the data before applying transformations or modeling.***"
      ]
    },
    {
      "cell_type": "code",
      "execution_count": null,
      "metadata": {
        "colab": {
          "base_uri": "https://localhost:8080/",
          "height": 300
        },
        "id": "kKDYvNxKkOei",
        "outputId": "0d907ce8-8fbb-469d-fb08-4c18adf13b5c"
      },
      "outputs": [
        {
          "output_type": "execute_result",
          "data": {
            "text/plain": [
              "          AccountNum         TaxID  BilledAmount  AllowedAmount  Days_to_File  \\\n",
              "count   10000.000000  10000.000000  10000.000000   10000.000000  10000.000000   \n",
              "mean   549469.244600  55106.579800   7748.370451    6722.062690     34.757300   \n",
              "std    261157.350858  25939.659784   4204.854638    3806.880226     37.152833   \n",
              "min    100259.000000  10010.000000    502.362390     283.778612      0.000000   \n",
              "25%    320932.250000  32568.000000   4105.838009    3426.012918      0.000000   \n",
              "50%    548338.500000  54886.000000   7775.030799    6584.639932     25.000000   \n",
              "75%    775684.750000  77718.500000  11377.286384    9809.451051     58.000000   \n",
              "max    999919.000000  99991.000000  14994.941691   14209.235696    255.000000   \n",
              "\n",
              "         PatientAge  \n",
              "count  10000.000000  \n",
              "mean      45.204100  \n",
              "std       25.725641  \n",
              "min        1.000000  \n",
              "25%       23.000000  \n",
              "50%       45.000000  \n",
              "75%       68.000000  \n",
              "max       89.000000  "
            ],
            "text/html": [
              "\n",
              "  <div id=\"df-89e37775-b914-4ed0-bbaf-cb288bff292a\" class=\"colab-df-container\">\n",
              "    <div>\n",
              "<style scoped>\n",
              "    .dataframe tbody tr th:only-of-type {\n",
              "        vertical-align: middle;\n",
              "    }\n",
              "\n",
              "    .dataframe tbody tr th {\n",
              "        vertical-align: top;\n",
              "    }\n",
              "\n",
              "    .dataframe thead th {\n",
              "        text-align: right;\n",
              "    }\n",
              "</style>\n",
              "<table border=\"1\" class=\"dataframe\">\n",
              "  <thead>\n",
              "    <tr style=\"text-align: right;\">\n",
              "      <th></th>\n",
              "      <th>AccountNum</th>\n",
              "      <th>TaxID</th>\n",
              "      <th>BilledAmount</th>\n",
              "      <th>AllowedAmount</th>\n",
              "      <th>Days_to_File</th>\n",
              "      <th>PatientAge</th>\n",
              "    </tr>\n",
              "  </thead>\n",
              "  <tbody>\n",
              "    <tr>\n",
              "      <th>count</th>\n",
              "      <td>10000.000000</td>\n",
              "      <td>10000.000000</td>\n",
              "      <td>10000.000000</td>\n",
              "      <td>10000.000000</td>\n",
              "      <td>10000.000000</td>\n",
              "      <td>10000.000000</td>\n",
              "    </tr>\n",
              "    <tr>\n",
              "      <th>mean</th>\n",
              "      <td>549469.244600</td>\n",
              "      <td>55106.579800</td>\n",
              "      <td>7748.370451</td>\n",
              "      <td>6722.062690</td>\n",
              "      <td>34.757300</td>\n",
              "      <td>45.204100</td>\n",
              "    </tr>\n",
              "    <tr>\n",
              "      <th>std</th>\n",
              "      <td>261157.350858</td>\n",
              "      <td>25939.659784</td>\n",
              "      <td>4204.854638</td>\n",
              "      <td>3806.880226</td>\n",
              "      <td>37.152833</td>\n",
              "      <td>25.725641</td>\n",
              "    </tr>\n",
              "    <tr>\n",
              "      <th>min</th>\n",
              "      <td>100259.000000</td>\n",
              "      <td>10010.000000</td>\n",
              "      <td>502.362390</td>\n",
              "      <td>283.778612</td>\n",
              "      <td>0.000000</td>\n",
              "      <td>1.000000</td>\n",
              "    </tr>\n",
              "    <tr>\n",
              "      <th>25%</th>\n",
              "      <td>320932.250000</td>\n",
              "      <td>32568.000000</td>\n",
              "      <td>4105.838009</td>\n",
              "      <td>3426.012918</td>\n",
              "      <td>0.000000</td>\n",
              "      <td>23.000000</td>\n",
              "    </tr>\n",
              "    <tr>\n",
              "      <th>50%</th>\n",
              "      <td>548338.500000</td>\n",
              "      <td>54886.000000</td>\n",
              "      <td>7775.030799</td>\n",
              "      <td>6584.639932</td>\n",
              "      <td>25.000000</td>\n",
              "      <td>45.000000</td>\n",
              "    </tr>\n",
              "    <tr>\n",
              "      <th>75%</th>\n",
              "      <td>775684.750000</td>\n",
              "      <td>77718.500000</td>\n",
              "      <td>11377.286384</td>\n",
              "      <td>9809.451051</td>\n",
              "      <td>58.000000</td>\n",
              "      <td>68.000000</td>\n",
              "    </tr>\n",
              "    <tr>\n",
              "      <th>max</th>\n",
              "      <td>999919.000000</td>\n",
              "      <td>99991.000000</td>\n",
              "      <td>14994.941691</td>\n",
              "      <td>14209.235696</td>\n",
              "      <td>255.000000</td>\n",
              "      <td>89.000000</td>\n",
              "    </tr>\n",
              "  </tbody>\n",
              "</table>\n",
              "</div>\n",
              "    <div class=\"colab-df-buttons\">\n",
              "\n",
              "  <div class=\"colab-df-container\">\n",
              "    <button class=\"colab-df-convert\" onclick=\"convertToInteractive('df-89e37775-b914-4ed0-bbaf-cb288bff292a')\"\n",
              "            title=\"Convert this dataframe to an interactive table.\"\n",
              "            style=\"display:none;\">\n",
              "\n",
              "  <svg xmlns=\"http://www.w3.org/2000/svg\" height=\"24px\" viewBox=\"0 -960 960 960\">\n",
              "    <path d=\"M120-120v-720h720v720H120Zm60-500h600v-160H180v160Zm220 220h160v-160H400v160Zm0 220h160v-160H400v160ZM180-400h160v-160H180v160Zm440 0h160v-160H620v160ZM180-180h160v-160H180v160Zm440 0h160v-160H620v160Z\"/>\n",
              "  </svg>\n",
              "    </button>\n",
              "\n",
              "  <style>\n",
              "    .colab-df-container {\n",
              "      display:flex;\n",
              "      gap: 12px;\n",
              "    }\n",
              "\n",
              "    .colab-df-convert {\n",
              "      background-color: #E8F0FE;\n",
              "      border: none;\n",
              "      border-radius: 50%;\n",
              "      cursor: pointer;\n",
              "      display: none;\n",
              "      fill: #1967D2;\n",
              "      height: 32px;\n",
              "      padding: 0 0 0 0;\n",
              "      width: 32px;\n",
              "    }\n",
              "\n",
              "    .colab-df-convert:hover {\n",
              "      background-color: #E2EBFA;\n",
              "      box-shadow: 0px 1px 2px rgba(60, 64, 67, 0.3), 0px 1px 3px 1px rgba(60, 64, 67, 0.15);\n",
              "      fill: #174EA6;\n",
              "    }\n",
              "\n",
              "    .colab-df-buttons div {\n",
              "      margin-bottom: 4px;\n",
              "    }\n",
              "\n",
              "    [theme=dark] .colab-df-convert {\n",
              "      background-color: #3B4455;\n",
              "      fill: #D2E3FC;\n",
              "    }\n",
              "\n",
              "    [theme=dark] .colab-df-convert:hover {\n",
              "      background-color: #434B5C;\n",
              "      box-shadow: 0px 1px 3px 1px rgba(0, 0, 0, 0.15);\n",
              "      filter: drop-shadow(0px 1px 2px rgba(0, 0, 0, 0.3));\n",
              "      fill: #FFFFFF;\n",
              "    }\n",
              "  </style>\n",
              "\n",
              "    <script>\n",
              "      const buttonEl =\n",
              "        document.querySelector('#df-89e37775-b914-4ed0-bbaf-cb288bff292a button.colab-df-convert');\n",
              "      buttonEl.style.display =\n",
              "        google.colab.kernel.accessAllowed ? 'block' : 'none';\n",
              "\n",
              "      async function convertToInteractive(key) {\n",
              "        const element = document.querySelector('#df-89e37775-b914-4ed0-bbaf-cb288bff292a');\n",
              "        const dataTable =\n",
              "          await google.colab.kernel.invokeFunction('convertToInteractive',\n",
              "                                                    [key], {});\n",
              "        if (!dataTable) return;\n",
              "\n",
              "        const docLinkHtml = 'Like what you see? Visit the ' +\n",
              "          '<a target=\"_blank\" href=https://colab.research.google.com/notebooks/data_table.ipynb>data table notebook</a>'\n",
              "          + ' to learn more about interactive tables.';\n",
              "        element.innerHTML = '';\n",
              "        dataTable['output_type'] = 'display_data';\n",
              "        await google.colab.output.renderOutput(dataTable, element);\n",
              "        const docLink = document.createElement('div');\n",
              "        docLink.innerHTML = docLinkHtml;\n",
              "        element.appendChild(docLink);\n",
              "      }\n",
              "    </script>\n",
              "  </div>\n",
              "\n",
              "\n",
              "    <div id=\"df-12cc66bf-c691-4447-9670-05283eed39df\">\n",
              "      <button class=\"colab-df-quickchart\" onclick=\"quickchart('df-12cc66bf-c691-4447-9670-05283eed39df')\"\n",
              "                title=\"Suggest charts\"\n",
              "                style=\"display:none;\">\n",
              "\n",
              "<svg xmlns=\"http://www.w3.org/2000/svg\" height=\"24px\"viewBox=\"0 0 24 24\"\n",
              "     width=\"24px\">\n",
              "    <g>\n",
              "        <path d=\"M19 3H5c-1.1 0-2 .9-2 2v14c0 1.1.9 2 2 2h14c1.1 0 2-.9 2-2V5c0-1.1-.9-2-2-2zM9 17H7v-7h2v7zm4 0h-2V7h2v10zm4 0h-2v-4h2v4z\"/>\n",
              "    </g>\n",
              "</svg>\n",
              "      </button>\n",
              "\n",
              "<style>\n",
              "  .colab-df-quickchart {\n",
              "      --bg-color: #E8F0FE;\n",
              "      --fill-color: #1967D2;\n",
              "      --hover-bg-color: #E2EBFA;\n",
              "      --hover-fill-color: #174EA6;\n",
              "      --disabled-fill-color: #AAA;\n",
              "      --disabled-bg-color: #DDD;\n",
              "  }\n",
              "\n",
              "  [theme=dark] .colab-df-quickchart {\n",
              "      --bg-color: #3B4455;\n",
              "      --fill-color: #D2E3FC;\n",
              "      --hover-bg-color: #434B5C;\n",
              "      --hover-fill-color: #FFFFFF;\n",
              "      --disabled-bg-color: #3B4455;\n",
              "      --disabled-fill-color: #666;\n",
              "  }\n",
              "\n",
              "  .colab-df-quickchart {\n",
              "    background-color: var(--bg-color);\n",
              "    border: none;\n",
              "    border-radius: 50%;\n",
              "    cursor: pointer;\n",
              "    display: none;\n",
              "    fill: var(--fill-color);\n",
              "    height: 32px;\n",
              "    padding: 0;\n",
              "    width: 32px;\n",
              "  }\n",
              "\n",
              "  .colab-df-quickchart:hover {\n",
              "    background-color: var(--hover-bg-color);\n",
              "    box-shadow: 0 1px 2px rgba(60, 64, 67, 0.3), 0 1px 3px 1px rgba(60, 64, 67, 0.15);\n",
              "    fill: var(--button-hover-fill-color);\n",
              "  }\n",
              "\n",
              "  .colab-df-quickchart-complete:disabled,\n",
              "  .colab-df-quickchart-complete:disabled:hover {\n",
              "    background-color: var(--disabled-bg-color);\n",
              "    fill: var(--disabled-fill-color);\n",
              "    box-shadow: none;\n",
              "  }\n",
              "\n",
              "  .colab-df-spinner {\n",
              "    border: 2px solid var(--fill-color);\n",
              "    border-color: transparent;\n",
              "    border-bottom-color: var(--fill-color);\n",
              "    animation:\n",
              "      spin 1s steps(1) infinite;\n",
              "  }\n",
              "\n",
              "  @keyframes spin {\n",
              "    0% {\n",
              "      border-color: transparent;\n",
              "      border-bottom-color: var(--fill-color);\n",
              "      border-left-color: var(--fill-color);\n",
              "    }\n",
              "    20% {\n",
              "      border-color: transparent;\n",
              "      border-left-color: var(--fill-color);\n",
              "      border-top-color: var(--fill-color);\n",
              "    }\n",
              "    30% {\n",
              "      border-color: transparent;\n",
              "      border-left-color: var(--fill-color);\n",
              "      border-top-color: var(--fill-color);\n",
              "      border-right-color: var(--fill-color);\n",
              "    }\n",
              "    40% {\n",
              "      border-color: transparent;\n",
              "      border-right-color: var(--fill-color);\n",
              "      border-top-color: var(--fill-color);\n",
              "    }\n",
              "    60% {\n",
              "      border-color: transparent;\n",
              "      border-right-color: var(--fill-color);\n",
              "    }\n",
              "    80% {\n",
              "      border-color: transparent;\n",
              "      border-right-color: var(--fill-color);\n",
              "      border-bottom-color: var(--fill-color);\n",
              "    }\n",
              "    90% {\n",
              "      border-color: transparent;\n",
              "      border-bottom-color: var(--fill-color);\n",
              "    }\n",
              "  }\n",
              "</style>\n",
              "\n",
              "      <script>\n",
              "        async function quickchart(key) {\n",
              "          const quickchartButtonEl =\n",
              "            document.querySelector('#' + key + ' button');\n",
              "          quickchartButtonEl.disabled = true;  // To prevent multiple clicks.\n",
              "          quickchartButtonEl.classList.add('colab-df-spinner');\n",
              "          try {\n",
              "            const charts = await google.colab.kernel.invokeFunction(\n",
              "                'suggestCharts', [key], {});\n",
              "          } catch (error) {\n",
              "            console.error('Error during call to suggestCharts:', error);\n",
              "          }\n",
              "          quickchartButtonEl.classList.remove('colab-df-spinner');\n",
              "          quickchartButtonEl.classList.add('colab-df-quickchart-complete');\n",
              "        }\n",
              "        (() => {\n",
              "          let quickchartButtonEl =\n",
              "            document.querySelector('#df-12cc66bf-c691-4447-9670-05283eed39df button');\n",
              "          quickchartButtonEl.style.display =\n",
              "            google.colab.kernel.accessAllowed ? 'block' : 'none';\n",
              "        })();\n",
              "      </script>\n",
              "    </div>\n",
              "\n",
              "    </div>\n",
              "  </div>\n"
            ],
            "application/vnd.google.colaboratory.intrinsic+json": {
              "type": "dataframe",
              "summary": "{\n  \"name\": \"data\",\n  \"rows\": 8,\n  \"fields\": [\n    {\n      \"column\": \"AccountNum\",\n      \"properties\": {\n        \"dtype\": \"number\",\n        \"std\": 337244.7828824762,\n        \"min\": 10000.0,\n        \"max\": 999919.0,\n        \"num_unique_values\": 8,\n        \"samples\": [\n          549469.2446,\n          548338.5,\n          10000.0\n        ],\n        \"semantic_type\": \"\",\n        \"description\": \"\"\n      }\n    },\n    {\n      \"column\": \"TaxID\",\n      \"properties\": {\n        \"dtype\": \"number\",\n        \"std\": 32197.386590049777,\n        \"min\": 10000.0,\n        \"max\": 99991.0,\n        \"num_unique_values\": 8,\n        \"samples\": [\n          55106.5798,\n          54886.0,\n          10000.0\n        ],\n        \"semantic_type\": \"\",\n        \"description\": \"\"\n      }\n    },\n    {\n      \"column\": \"BilledAmount\",\n      \"properties\": {\n        \"dtype\": \"number\",\n        \"std\": 4611.744355131376,\n        \"min\": 502.3623899117669,\n        \"max\": 14994.941690554013,\n        \"num_unique_values\": 8,\n        \"samples\": [\n          7748.370450997995,\n          7775.030798514579,\n          10000.0\n        ],\n        \"semantic_type\": \"\",\n        \"description\": \"\"\n      }\n    },\n    {\n      \"column\": \"AllowedAmount\",\n      \"properties\": {\n        \"dtype\": \"number\",\n        \"std\": 4424.369077694835,\n        \"min\": 283.7786123720381,\n        \"max\": 14209.235696497692,\n        \"num_unique_values\": 8,\n        \"samples\": [\n          6722.0626896136655,\n          6584.639932057224,\n          10000.0\n        ],\n        \"semantic_type\": \"\",\n        \"description\": \"\"\n      }\n    },\n    {\n      \"column\": \"Days_to_File\",\n      \"properties\": {\n        \"dtype\": \"number\",\n        \"std\": 3515.797486849027,\n        \"min\": 0.0,\n        \"max\": 10000.0,\n        \"num_unique_values\": 7,\n        \"samples\": [\n          10000.0,\n          34.7573,\n          58.0\n        ],\n        \"semantic_type\": \"\",\n        \"description\": \"\"\n      }\n    },\n    {\n      \"column\": \"PatientAge\",\n      \"properties\": {\n        \"dtype\": \"number\",\n        \"std\": 3520.6423918072996,\n        \"min\": 1.0,\n        \"max\": 10000.0,\n        \"num_unique_values\": 8,\n        \"samples\": [\n          45.2041,\n          45.0,\n          10000.0\n        ],\n        \"semantic_type\": \"\",\n        \"description\": \"\"\n      }\n    }\n  ]\n}"
            }
          },
          "metadata": {},
          "execution_count": 7
        }
      ],
      "source": [
        "data.describe()"
      ]
    },
    {
      "cell_type": "markdown",
      "metadata": {
        "id": "jwNCzJ5MlhHn"
      },
      "source": [
        "***Step 7: This box plot helps us visually inspect the spread and outliers in key numeric features. BilledAmount and AllowedAmount show symmetric distributions with no visible outliers, indicating stable claim values. Days_to_File has several outliers on the higher end, confirming that some claims are filed very late and may need special handling. PatientAge appears balanced and clean, with no extreme values. This visual confirms the descriptive statistics and helps us decide how to treat outliers and prepare the data for modeling.***"
      ]
    },
    {
      "cell_type": "code",
      "execution_count": null,
      "metadata": {
        "colab": {
          "base_uri": "https://localhost:8080/",
          "height": 329
        },
        "id": "8U5STXs9imMU",
        "outputId": "f219d1c4-dd50-49e9-cdd2-58672f96b57a"
      },
      "outputs": [
        {
          "output_type": "display_data",
          "data": {
            "text/plain": [
              "<Figure size 2000x600 with 4 Axes>"
            ],
            "image/png": "[encoded data removed]"
          },
          "metadata": {}
        }
      ],
      "source": [
        "numeric_cols = ['BilledAmount', 'AllowedAmount', 'Days_to_File', 'PatientAge']\n",
        "\n",
        "plt.figure(figsize=(20, 6))\n",
        "\n",
        "for i, col in enumerate(numeric_cols):\n",
        "    plt.subplot(2, 4, i + 1)\n",
        "    sns.boxplot(x = data[col], color='skyblue')\n",
        "    plt.title(f\"{col}\", fontsize=12, style='italic', weight='bold')\n",
        "    plt.xlabel(col, fontsize=10, style='italic', weight='bold')\n",
        "    plt.xticks(style='italic')\n",
        "\n",
        "plt.suptitle(\"Outlier Check: Key Numeric Features\", style='italic', fontsize=14, weight='bold')\n",
        "plt.tight_layout()\n",
        "plt.show()\n"
      ]
    },
    {
      "cell_type": "markdown",
      "metadata": {
        "id": "Gu-y6b3CtYOv"
      },
      "source": [
        "***Step 8: Data Cleaning: Dropping Non-Predictive Columns***\n",
        "*   ***Prevent Overfitting: These columns have no true predictive power. If the model uses them, it essentially memorizes $10,000$ unique identifiers, which will lead to perfect performance on the training data but terrible performance on any new, unseen data.***\n",
        "*   ***Noise Reduction: These unique values act as \"noise\" that distracts the model from finding the real patterns in the remaining features.***\n",
        "*   ***The DateOfService column is also dropped here, as we will replace it with more useful engineered features in the next step.***"
      ]
    },
    {
      "cell_type": "code",
      "execution_count": null,
      "metadata": {
        "colab": {
          "base_uri": "https://localhost:8080/"
        },
        "id": "pcK9PyMIn2TB",
        "outputId": "b36cdaa3-28fa-4c14-a60f-986464637ecc"
      },
      "outputs": [
        {
          "output_type": "stream",
          "name": "stdout",
          "text": [
            "['BilledAmount', 'AllowedAmount', 'Is_Out_Of_Network', 'Days_to_File', 'Is_Policy_Active', 'PatientAge', 'PatientGender', 'ProviderSpecialty', 'ClaimStatus']\n"
          ]
        }
      ],
      "source": [
        "drop_cols = ['ClaimID', 'MemberID', 'ProviderNPI', 'AccountNum', 'TaxID', 'DateOfService']\n",
        "data = data.drop(columns=drop_cols)\n",
        "print(data.columns.tolist())"
      ]
    },
    {
      "cell_type": "markdown",
      "source": [
        "***Step 9: Feature Engineering:***\n",
        "*   ***This is a core concept in claims data. We are creating a new, highly informative feature by combining two existing ones. The ratio of the Billed Amount (what the provider asked for) to the Allowed Amount (what the payer agrees to pay) is often the single strongest predictor of whether a claim will be denied or pending.***\n",
        "*   ***A ratio close to 1.0 usually means the claim is clean.***\n",
        "*   ***A ratio significantly greater than 1.0 (Billed much higher than Allowed) suggests a potential issue that could lead to a 'Denied' or 'Pending' status.***\n",
        "*   ***Additionally, this transformation helps reduce multicollinearity between BilledAmount and AllowedAmount, since both are highly correlated. By combining them into a single ratio, we reduce redundancy and provide the model with a more stable and interpretable signal.***"
      ],
      "metadata": {
        "id": "AsD1VX14yqbJ"
      }
    },
    {
      "cell_type": "code",
      "source": [
        "data['BilledToAllowedRatio'] = data['BilledAmount']/(data['AllowedAmount']+1)\n",
        "print(\"\\n--- Descriptive Statistics for New Feature ---\")\n",
        "print(data['BilledToAllowedRatio'].describe())"
      ],
      "metadata": {
        "colab": {
          "base_uri": "https://localhost:8080/"
        },
        "id": "BiGALNxvznCq",
        "outputId": "2a099d89-2ec6-42d7-a91d-14a2c6517da9"
      },
      "execution_count": null,
      "outputs": [
        {
          "output_type": "stream",
          "name": "stdout",
          "text": [
            "\n",
            "--- Descriptive Statistics for New Feature ---\n",
            "count    10000.000000\n",
            "mean         1.185703\n",
            "std          0.229045\n",
            "min          1.051046\n",
            "25%          1.069923\n",
            "50%          1.088034\n",
            "75%          1.106585\n",
            "max          1.999432\n",
            "Name: BilledToAllowedRatio, dtype: float64\n"
          ]
        }
      ]
    },
    {
      "cell_type": "markdown",
      "source": [
        "***Step 10 : Feature Engineering: Categorical Patient Age Group***\n",
        "*   ***The raw PatientAge is a continuous number. While machine learning models can handle this, it's often more robust to turn it into categorical groups (a process called binning).***\n",
        "*   ***Improved Generalization: The model learns that claims for patients in the 'Senior' group behave in a certain way, rather than having to learn the specific pattern for age $65$, age $66$, etc. This reduces complexity and noise.***\n",
        "*   ***We then drop the original PatientAge column because the new binned column is now more informative.***"
      ],
      "metadata": {
        "id": "yZtan0p22Rhc"
      }
    },
    {
      "cell_type": "code",
      "source": [
        "bins = [0, 18, 45, 65, 100]\n",
        "lables = ['child/young','Adult','senior','Elderly']\n",
        "data['PatientAgeGroup'] = pd.cut(data['PatientAge'],bins=bins,labels=lables,right=False).astype=object\n",
        "data = data.drop(columns=['PatientAge'])"
      ],
      "metadata": {
        "id": "vJpVdgL22R_n"
      },
      "execution_count": null,
      "outputs": []
    },
    {
      "cell_type": "markdown",
      "source": [
        "***Step 11 : Data Type Conversion and Categorical Visualization Check.***\n",
        "\n",
        "***Type Consistency: We ensure our Boolean features (Is_Policy_Active, Is_Out_Of_Network) are explicitly cast to object (categorical) so they are correctly handled by the upcoming One-Hot Encoding process.***\n",
        "\n",
        "***Visualization Necessity: We must visualize the relationship between key categorical features and the target variable, such as ProviderSpecialty, to confirm its predictive value. The visual below clearly shows that certain specialties have a higher volume of claims, and the distribution of Paid/Denied/Pending varies by specialty, confirming this is a valuable feature.***"
      ],
      "metadata": {
        "id": "BDepI5HcAPwx"
      }
    },
    {
      "cell_type": "code",
      "source": [
        "data['Is_Policy_Active'] = data['Is_Policy_Active'].astype(object)\n",
        "data['Is_Out_Of_Network'] = data['Is_Out_Of_Network'].astype(object)\n",
        "\n",
        "print(\"Final Data Types Check:\")\n",
        "print(data.dtypes)\n",
        "\n",
        "plt.figure(figsize=(12, 6))\n",
        "sns.countplot(\n",
        "    data=data,\n",
        "    x='ProviderSpecialty',\n",
        "    hue='ClaimStatus',\n",
        "    palette=[\"lightblue\", \"lightgreen\", \"lightcoral\"]\n",
        ")\n",
        "plt.title('Claim Status by Provider Specialty', fontstyle='italic', weight='bold')\n",
        "plt.xlabel(\"Provider Specialty\", fontstyle='italic', weight='bold')\n",
        "plt.ylabel(\"Count\", fontstyle='italic', weight='bold')\n",
        "plt.xticks(rotation=45, ha='right', fontstyle='italic')\n",
        "plt.legend(title='Claim Status')\n",
        "plt.grid(axis='y', linestyle='--', alpha=0.6)\n",
        "plt.tight_layout()\n",
        "plt.show()"
      ],
      "metadata": {
        "colab": {
          "base_uri": "https://localhost:8080/",
          "height": 815
        },
        "id": "IExTdTwt9VJc",
        "outputId": "dc710577-a97f-4224-e2c4-b90385ab6e30"
      },
      "execution_count": null,
      "outputs": [
        {
          "output_type": "stream",
          "name": "stdout",
          "text": [
            "Final Data Types Check:\n",
            "BilledAmount            float64\n",
            "AllowedAmount           float64\n",
            "Is_Out_Of_Network        object\n",
            "Days_to_File              int64\n",
            "Is_Policy_Active         object\n",
            "PatientGender            object\n",
            "ProviderSpecialty        object\n",
            "ClaimStatus              object\n",
            "BilledToAllowedRatio    float64\n",
            "PatientAgeGroup          object\n",
            "dtype: object\n"
          ]
        },
        {
          "output_type": "display_data",
          "data": {
            "text/plain": [
              "<Figure size 1200x600 with 1 Axes>"
            ],
            "image/png": "[encoded data removed]"
          },
          "metadata": {}
        }
      ]
    },
    {
      "cell_type": "markdown",
      "source": [
        "***Now lets see how the data looks***"
      ],
      "metadata": {
        "id": "9sAKBgGpBPdo"
      }
    },
    {
      "cell_type": "code",
      "source": [
        "data.head()"
      ],
      "metadata": {
        "colab": {
          "base_uri": "https://localhost:8080/",
          "height": 206
        },
        "id": "MW4dJc1YBRXK",
        "outputId": "156f8af7-e9ba-4848-f803-24e424f39659"
      },
      "execution_count": null,
      "outputs": [
        {
          "output_type": "execute_result",
          "data": {
            "text/plain": [
              "   BilledAmount  AllowedAmount Is_Out_Of_Network  Days_to_File  \\\n",
              "0   5966.621342    5648.867813             False            41   \n",
              "1  10728.760158   10172.484782             False            45   \n",
              "2   8202.066506    5194.960300              True             0   \n",
              "3   9287.788171    8777.170514             False             0   \n",
              "4  12218.887462   11394.763581             False             0   \n",
              "\n",
              "  Is_Policy_Active PatientGender ProviderSpecialty ClaimStatus  \\\n",
              "0             True             M  Physical Therapy     Pending   \n",
              "1             True             F         Radiology     Pending   \n",
              "2             True             F  Physical Therapy     Pending   \n",
              "3             True             F         Radiology        Paid   \n",
              "4             True             F        Cardiology        Paid   \n",
              "\n",
              "   BilledToAllowedRatio   PatientAgeGroup  \n",
              "0              1.056064  <class 'object'>  \n",
              "1              1.054581  <class 'object'>  \n",
              "2              1.578547  <class 'object'>  \n",
              "3              1.058055  <class 'object'>  \n",
              "4              1.072231  <class 'object'>  "
            ],
            "text/html": [
              "\n",
              "  <div id=\"df-e1854949-0b37-44e7-958f-7b9c5ad9b5bb\" class=\"colab-df-container\">\n",
              "    <div>\n",
              "<style scoped>\n",
              "    .dataframe tbody tr th:only-of-type {\n",
              "        vertical-align: middle;\n",
              "    }\n",
              "\n",
              "    .dataframe tbody tr th {\n",
              "        vertical-align: top;\n",
              "    }\n",
              "\n",
              "    .dataframe thead th {\n",
              "        text-align: right;\n",
              "    }\n",
              "</style>\n",
              "<table border=\"1\" class=\"dataframe\">\n",
              "  <thead>\n",
              "    <tr style=\"text-align: right;\">\n",
              "      <th></th>\n",
              "      <th>BilledAmount</th>\n",
              "      <th>AllowedAmount</th>\n",
              "      <th>Is_Out_Of_Network</th>\n",
              "      <th>Days_to_File</th>\n",
              "      <th>Is_Policy_Active</th>\n",
              "      <th>PatientGender</th>\n",
              "      <th>ProviderSpecialty</th>\n",
              "      <th>ClaimStatus</th>\n",
              "      <th>BilledToAllowedRatio</th>\n",
              "      <th>PatientAgeGroup</th>\n",
              "    </tr>\n",
              "  </thead>\n",
              "  <tbody>\n",
              "    <tr>\n",
              "      <th>0</th>\n",
              "      <td>5966.621342</td>\n",
              "      <td>5648.867813</td>\n",
              "      <td>False</td>\n",
              "      <td>41</td>\n",
              "      <td>True</td>\n",
              "      <td>M</td>\n",
              "      <td>Physical Therapy</td>\n",
              "      <td>Pending</td>\n",
              "      <td>1.056064</td>\n",
              "      <td>&lt;class 'object'&gt;</td>\n",
              "    </tr>\n",
              "    <tr>\n",
              "      <th>1</th>\n",
              "      <td>10728.760158</td>\n",
              "      <td>10172.484782</td>\n",
              "      <td>False</td>\n",
              "      <td>45</td>\n",
              "      <td>True</td>\n",
              "      <td>F</td>\n",
              "      <td>Radiology</td>\n",
              "      <td>Pending</td>\n",
              "      <td>1.054581</td>\n",
              "      <td>&lt;class 'object'&gt;</td>\n",
              "    </tr>\n",
              "    <tr>\n",
              "      <th>2</th>\n",
              "      <td>8202.066506</td>\n",
              "      <td>5194.960300</td>\n",
              "      <td>True</td>\n",
              "      <td>0</td>\n",
              "      <td>True</td>\n",
              "      <td>F</td>\n",
              "      <td>Physical Therapy</td>\n",
              "      <td>Pending</td>\n",
              "      <td>1.578547</td>\n",
              "      <td>&lt;class 'object'&gt;</td>\n",
              "    </tr>\n",
              "    <tr>\n",
              "      <th>3</th>\n",
              "      <td>9287.788171</td>\n",
              "      <td>8777.170514</td>\n",
              "      <td>False</td>\n",
              "      <td>0</td>\n",
              "      <td>True</td>\n",
              "      <td>F</td>\n",
              "      <td>Radiology</td>\n",
              "      <td>Paid</td>\n",
              "      <td>1.058055</td>\n",
              "      <td>&lt;class 'object'&gt;</td>\n",
              "    </tr>\n",
              "    <tr>\n",
              "      <th>4</th>\n",
              "      <td>12218.887462</td>\n",
              "      <td>11394.763581</td>\n",
              "      <td>False</td>\n",
              "      <td>0</td>\n",
              "      <td>True</td>\n",
              "      <td>F</td>\n",
              "      <td>Cardiology</td>\n",
              "      <td>Paid</td>\n",
              "      <td>1.072231</td>\n",
              "      <td>&lt;class 'object'&gt;</td>\n",
              "    </tr>\n",
              "  </tbody>\n",
              "</table>\n",
              "</div>\n",
              "    <div class=\"colab-df-buttons\">\n",
              "\n",
              "  <div class=\"colab-df-container\">\n",
              "    <button class=\"colab-df-convert\" onclick=\"convertToInteractive('df-e1854949-0b37-44e7-958f-7b9c5ad9b5bb')\"\n",
              "            title=\"Convert this dataframe to an interactive table.\"\n",
              "            style=\"display:none;\">\n",
              "\n",
              "  <svg xmlns=\"http://www.w3.org/2000/svg\" height=\"24px\" viewBox=\"0 -960 960 960\">\n",
              "    <path d=\"M120-120v-720h720v720H120Zm60-500h600v-160H180v160Zm220 220h160v-160H400v160Zm0 220h160v-160H400v160ZM180-400h160v-160H180v160Zm440 0h160v-160H620v160ZM180-180h160v-160H180v160Zm440 0h160v-160H620v160Z\"/>\n",
              "  </svg>\n",
              "    </button>\n",
              "\n",
              "  <style>\n",
              "    .colab-df-container {\n",
              "      display:flex;\n",
              "      gap: 12px;\n",
              "    }\n",
              "\n",
              "    .colab-df-convert {\n",
              "      background-color: #E8F0FE;\n",
              "      border: none;\n",
              "      border-radius: 50%;\n",
              "      cursor: pointer;\n",
              "      display: none;\n",
              "      fill: #1967D2;\n",
              "      height: 32px;\n",
              "      padding: 0 0 0 0;\n",
              "      width: 32px;\n",
              "    }\n",
              "\n",
              "    .colab-df-convert:hover {\n",
              "      background-color: #E2EBFA;\n",
              "      box-shadow: 0px 1px 2px rgba(60, 64, 67, 0.3), 0px 1px 3px 1px rgba(60, 64, 67, 0.15);\n",
              "      fill: #174EA6;\n",
              "    }\n",
              "\n",
              "    .colab-df-buttons div {\n",
              "      margin-bottom: 4px;\n",
              "    }\n",
              "\n",
              "    [theme=dark] .colab-df-convert {\n",
              "      background-color: #3B4455;\n",
              "      fill: #D2E3FC;\n",
              "    }\n",
              "\n",
              "    [theme=dark] .colab-df-convert:hover {\n",
              "      background-color: #434B5C;\n",
              "      box-shadow: 0px 1px 3px 1px rgba(0, 0, 0, 0.15);\n",
              "      filter: drop-shadow(0px 1px 2px rgba(0, 0, 0, 0.3));\n",
              "      fill: #FFFFFF;\n",
              "    }\n",
              "  </style>\n",
              "\n",
              "    <script>\n",
              "      const buttonEl =\n",
              "        document.querySelector('#df-e1854949-0b37-44e7-958f-7b9c5ad9b5bb button.colab-df-convert');\n",
              "      buttonEl.style.display =\n",
              "        google.colab.kernel.accessAllowed ? 'block' : 'none';\n",
              "\n",
              "      async function convertToInteractive(key) {\n",
              "        const element = document.querySelector('#df-e1854949-0b37-44e7-958f-7b9c5ad9b5bb');\n",
              "        const dataTable =\n",
              "          await google.colab.kernel.invokeFunction('convertToInteractive',\n",
              "                                                    [key], {});\n",
              "        if (!dataTable) return;\n",
              "\n",
              "        const docLinkHtml = 'Like what you see? Visit the ' +\n",
              "          '<a target=\"_blank\" href=https://colab.research.google.com/notebooks/data_table.ipynb>data table notebook</a>'\n",
              "          + ' to learn more about interactive tables.';\n",
              "        element.innerHTML = '';\n",
              "        dataTable['output_type'] = 'display_data';\n",
              "        await google.colab.output.renderOutput(dataTable, element);\n",
              "        const docLink = document.createElement('div');\n",
              "        docLink.innerHTML = docLinkHtml;\n",
              "        element.appendChild(docLink);\n",
              "      }\n",
              "    </script>\n",
              "  </div>\n",
              "\n",
              "\n",
              "    <div id=\"df-c47a2261-b2e4-457f-8c5e-1a5e637b70fa\">\n",
              "      <button class=\"colab-df-quickchart\" onclick=\"quickchart('df-c47a2261-b2e4-457f-8c5e-1a5e637b70fa')\"\n",
              "                title=\"Suggest charts\"\n",
              "                style=\"display:none;\">\n",
              "\n",
              "<svg xmlns=\"http://www.w3.org/2000/svg\" height=\"24px\"viewBox=\"0 0 24 24\"\n",
              "     width=\"24px\">\n",
              "    <g>\n",
              "        <path d=\"M19 3H5c-1.1 0-2 .9-2 2v14c0 1.1.9 2 2 2h14c1.1 0 2-.9 2-2V5c0-1.1-.9-2-2-2zM9 17H7v-7h2v7zm4 0h-2V7h2v10zm4 0h-2v-4h2v4z\"/>\n",
              "    </g>\n",
              "</svg>\n",
              "      </button>\n",
              "\n",
              "<style>\n",
              "  .colab-df-quickchart {\n",
              "      --bg-color: #E8F0FE;\n",
              "      --fill-color: #1967D2;\n",
              "      --hover-bg-color: #E2EBFA;\n",
              "      --hover-fill-color: #174EA6;\n",
              "      --disabled-fill-color: #AAA;\n",
              "      --disabled-bg-color: #DDD;\n",
              "  }\n",
              "\n",
              "  [theme=dark] .colab-df-quickchart {\n",
              "      --bg-color: #3B4455;\n",
              "      --fill-color: #D2E3FC;\n",
              "      --hover-bg-color: #434B5C;\n",
              "      --hover-fill-color: #FFFFFF;\n",
              "      --disabled-bg-color: #3B4455;\n",
              "      --disabled-fill-color: #666;\n",
              "  }\n",
              "\n",
              "  .colab-df-quickchart {\n",
              "    background-color: var(--bg-color);\n",
              "    border: none;\n",
              "    border-radius: 50%;\n",
              "    cursor: pointer;\n",
              "    display: none;\n",
              "    fill: var(--fill-color);\n",
              "    height: 32px;\n",
              "    padding: 0;\n",
              "    width: 32px;\n",
              "  }\n",
              "\n",
              "  .colab-df-quickchart:hover {\n",
              "    background-color: var(--hover-bg-color);\n",
              "    box-shadow: 0 1px 2px rgba(60, 64, 67, 0.3), 0 1px 3px 1px rgba(60, 64, 67, 0.15);\n",
              "    fill: var(--button-hover-fill-color);\n",
              "  }\n",
              "\n",
              "  .colab-df-quickchart-complete:disabled,\n",
              "  .colab-df-quickchart-complete:disabled:hover {\n",
              "    background-color: var(--disabled-bg-color);\n",
              "    fill: var(--disabled-fill-color);\n",
              "    box-shadow: none;\n",
              "  }\n",
              "\n",
              "  .colab-df-spinner {\n",
              "    border: 2px solid var(--fill-color);\n",
              "    border-color: transparent;\n",
              "    border-bottom-color: var(--fill-color);\n",
              "    animation:\n",
              "      spin 1s steps(1) infinite;\n",
              "  }\n",
              "\n",
              "  @keyframes spin {\n",
              "    0% {\n",
              "      border-color: transparent;\n",
              "      border-bottom-color: var(--fill-color);\n",
              "      border-left-color: var(--fill-color);\n",
              "    }\n",
              "    20% {\n",
              "      border-color: transparent;\n",
              "      border-left-color: var(--fill-color);\n",
              "      border-top-color: var(--fill-color);\n",
              "    }\n",
              "    30% {\n",
              "      border-color: transparent;\n",
              "      border-left-color: var(--fill-color);\n",
              "      border-top-color: var(--fill-color);\n",
              "      border-right-color: var(--fill-color);\n",
              "    }\n",
              "    40% {\n",
              "      border-color: transparent;\n",
              "      border-right-color: var(--fill-color);\n",
              "      border-top-color: var(--fill-color);\n",
              "    }\n",
              "    60% {\n",
              "      border-color: transparent;\n",
              "      border-right-color: var(--fill-color);\n",
              "    }\n",
              "    80% {\n",
              "      border-color: transparent;\n",
              "      border-right-color: var(--fill-color);\n",
              "      border-bottom-color: var(--fill-color);\n",
              "    }\n",
              "    90% {\n",
              "      border-color: transparent;\n",
              "      border-bottom-color: var(--fill-color);\n",
              "    }\n",
              "  }\n",
              "</style>\n",
              "\n",
              "      <script>\n",
              "        async function quickchart(key) {\n",
              "          const quickchartButtonEl =\n",
              "            document.querySelector('#' + key + ' button');\n",
              "          quickchartButtonEl.disabled = true;  // To prevent multiple clicks.\n",
              "          quickchartButtonEl.classList.add('colab-df-spinner');\n",
              "          try {\n",
              "            const charts = await google.colab.kernel.invokeFunction(\n",
              "                'suggestCharts', [key], {});\n",
              "          } catch (error) {\n",
              "            console.error('Error during call to suggestCharts:', error);\n",
              "          }\n",
              "          quickchartButtonEl.classList.remove('colab-df-spinner');\n",
              "          quickchartButtonEl.classList.add('colab-df-quickchart-complete');\n",
              "        }\n",
              "        (() => {\n",
              "          let quickchartButtonEl =\n",
              "            document.querySelector('#df-c47a2261-b2e4-457f-8c5e-1a5e637b70fa button');\n",
              "          quickchartButtonEl.style.display =\n",
              "            google.colab.kernel.accessAllowed ? 'block' : 'none';\n",
              "        })();\n",
              "      </script>\n",
              "    </div>\n",
              "\n",
              "    </div>\n",
              "  </div>\n"
            ],
            "application/vnd.google.colaboratory.intrinsic+json": {
              "type": "dataframe",
              "variable_name": "data",
              "summary": "{\n  \"name\": \"data\",\n  \"rows\": 10000,\n  \"fields\": [\n    {\n      \"column\": \"BilledAmount\",\n      \"properties\": {\n        \"dtype\": \"number\",\n        \"std\": 4204.854637502311,\n        \"min\": 502.3623899117669,\n        \"max\": 14994.941690554013,\n        \"num_unique_values\": 10000,\n        \"samples\": [\n          13165.240695857154,\n          14651.98329078473,\n          5207.997528888061\n        ],\n        \"semantic_type\": \"\",\n        \"description\": \"\"\n      }\n    },\n    {\n      \"column\": \"AllowedAmount\",\n      \"properties\": {\n        \"dtype\": \"number\",\n        \"std\": 3806.8802255668434,\n        \"min\": 283.7786123720381,\n        \"max\": 14209.235696497692,\n        \"num_unique_values\": 10000,\n        \"samples\": [\n          11870.38256387879,\n          13677.934580004034,\n          4719.058035700828\n        ],\n        \"semantic_type\": \"\",\n        \"description\": \"\"\n      }\n    },\n    {\n      \"column\": \"Is_Out_Of_Network\",\n      \"properties\": {\n        \"dtype\": \"category\",\n        \"num_unique_values\": 2,\n        \"samples\": [\n          true,\n          false\n        ],\n        \"semantic_type\": \"\",\n        \"description\": \"\"\n      }\n    },\n    {\n      \"column\": \"Days_to_File\",\n      \"properties\": {\n        \"dtype\": \"number\",\n        \"std\": 37,\n        \"min\": 0,\n        \"max\": 255,\n        \"num_unique_values\": 188,\n        \"samples\": [\n          170,\n          197\n        ],\n        \"semantic_type\": \"\",\n        \"description\": \"\"\n      }\n    },\n    {\n      \"column\": \"Is_Policy_Active\",\n      \"properties\": {\n        \"dtype\": \"category\",\n        \"num_unique_values\": 2,\n        \"samples\": [\n          false,\n          true\n        ],\n        \"semantic_type\": \"\",\n        \"description\": \"\"\n      }\n    },\n    {\n      \"column\": \"PatientGender\",\n      \"properties\": {\n        \"dtype\": \"category\",\n        \"num_unique_values\": 2,\n        \"samples\": [\n          \"F\",\n          \"M\"\n        ],\n        \"semantic_type\": \"\",\n        \"description\": \"\"\n      }\n    },\n    {\n      \"column\": \"ProviderSpecialty\",\n      \"properties\": {\n        \"dtype\": \"category\",\n        \"num_unique_values\": 4,\n        \"samples\": [\n          \"Radiology\",\n          \"Internal Medicine\"\n        ],\n        \"semantic_type\": \"\",\n        \"description\": \"\"\n      }\n    },\n    {\n      \"column\": \"ClaimStatus\",\n      \"properties\": {\n        \"dtype\": \"category\",\n        \"num_unique_values\": 3,\n        \"samples\": [\n          \"Pending\",\n          \"Paid\"\n        ],\n        \"semantic_type\": \"\",\n        \"description\": \"\"\n      }\n    },\n    {\n      \"column\": \"BilledToAllowedRatio\",\n      \"properties\": {\n        \"dtype\": \"number\",\n        \"std\": 0.22904492309974814,\n        \"min\": 1.0510455894491604,\n        \"max\": 1.9994323693154255,\n        \"num_unique_values\": 10000,\n        \"samples\": [\n          1.1089896753824784,\n          1.0711348318167342\n        ],\n        \"semantic_type\": \"\",\n        \"description\": \"\"\n      }\n    },\n    {\n      \"column\": \"PatientAgeGroup\",\n      \"properties\": {\n        \"dtype\": \"category\",\n        \"num_unique_values\": 1,\n        \"samples\": [\n          \"<class 'object'>\"\n        ],\n        \"semantic_type\": \"\",\n        \"description\": \"\"\n      }\n    }\n  ]\n}"
            }
          },
          "metadata": {},
          "execution_count": 13
        }
      ]
    },
    {
      "cell_type": "markdown",
      "source": [
        "***Step 11 :  Data Splitting Scaling, and Encoding Setup***\n",
        "\n",
        "***This is the core preprocessing phase, separating the data and preparing features for the models.***"
      ],
      "metadata": {
        "id": "QTIjtVd7tJmi"
      }
    },
    {
      "cell_type": "code",
      "source": [
        "X = data.drop(['ClaimStatus'], axis=1)\n",
        "y = data['ClaimStatus']\n",
        "X.shape, y.shape"
      ],
      "metadata": {
        "colab": {
          "base_uri": "https://localhost:8080/"
        },
        "id": "NXpGSbcStKDs",
        "outputId": "626e2f3e-3e31-4109-b20f-80c636edba16"
      },
      "execution_count": null,
      "outputs": [
        {
          "output_type": "execute_result",
          "data": {
            "text/plain": [
              "((10000, 9), (10000,))"
            ]
          },
          "metadata": {},
          "execution_count": 14
        }
      ]
    },
    {
      "cell_type": "markdown",
      "metadata": {
        "id": "0Nnc29XstYsb"
      },
      "source": [
        "***Splitting  :  We use a stratified split to ensure the proportion of Paid, Denied, and Pending claims is identical in both the $80\\%$ Training and $20\\%$ Testing sets.***"
      ]
    },
    {
      "cell_type": "code",
      "execution_count": null,
      "metadata": {
        "colab": {
          "base_uri": "https://localhost:8080/"
        },
        "id": "W7dgnFKvoT2-",
        "outputId": "ba60b077-ad66-4b90-c0a4-05b694375977"
      },
      "outputs": [
        {
          "output_type": "execute_result",
          "data": {
            "text/plain": [
              "((8000, 9), (2000, 9), (8000,), (2000,))"
            ]
          },
          "metadata": {},
          "execution_count": 15
        }
      ],
      "source": [
        "from sklearn.model_selection import train_test_split\n",
        "\n",
        "x_train, x_test, y_train, y_test = train_test_split(X, y, test_size= 0.2, random_state= 42,stratify=y)\n",
        "x_train.shape, x_test.shape, y_train.shape, y_test.shape"
      ]
    },
    {
      "cell_type": "markdown",
      "source": [
        "***Identify column types***"
      ],
      "metadata": {
        "id": "2qbS4r16weIc"
      }
    },
    {
      "cell_type": "code",
      "execution_count": null,
      "metadata": {
        "id": "QkfUt27FmpHq"
      },
      "outputs": [],
      "source": [
        "numeric_cols = x_train.select_dtypes(include=[\"int64\" , \"float64\"]).columns\n",
        "categorical_cols = x_train.select_dtypes(include=['object']).columns"
      ]
    },
    {
      "cell_type": "markdown",
      "source": [
        "***Scaling (StandardScaler): Features like BilledAmount are in the thousands, while Days_to_File is in the hundreds. Scaling standardizes all numerical data (mean  ≈0 , standard deviation  ≈1 ), preventing the model from giving disproportionate weight to features with larger values.***"
      ],
      "metadata": {
        "id": "XPVjKuDRxahb"
      }
    },
    {
      "cell_type": "code",
      "source": [
        "from sklearn.preprocessing import StandardScaler\n",
        "\n",
        "scaler = StandardScaler()\n",
        "x_train_scaled = x_train.copy()\n",
        "x_test_scaled = x_test.copy()\n",
        "x_train_scaled[numeric_cols] = scaler.fit_transform(x_train[numeric_cols])\n",
        "x_test_scaled[numeric_cols] = scaler.transform(x_test[numeric_cols])"
      ],
      "metadata": {
        "id": "eCkcfUQzxIP1"
      },
      "execution_count": null,
      "outputs": []
    },
    {
      "cell_type": "markdown",
      "source": [
        "***Encoding (OneHotEncoder): Categorical data (like PatientGender or the newly created PatientAgeGroup) must be converted into a numerical format the model can use.***"
      ],
      "metadata": {
        "id": "vmapxT61LVDU"
      }
    },
    {
      "cell_type": "code",
      "source": [
        "x_train_cat = pd.get_dummies(x_train[categorical_cols], drop_first=True)\n",
        "x_test_cat = pd.get_dummies(x_test[categorical_cols], drop_first=True)\n",
        "x_test_cat = x_test_cat.reindex(columns=x_train_cat.columns, fill_value=0)"
      ],
      "metadata": {
        "id": "TrC9MkfoLXZY"
      },
      "execution_count": null,
      "outputs": []
    },
    {
      "cell_type": "markdown",
      "source": [
        "***Feature Consolidation: Merging Scaled Numeric and Encoded Categorical Data***"
      ],
      "metadata": {
        "id": "vvQzK0QoUsUc"
      }
    },
    {
      "cell_type": "code",
      "source": [
        "x_train_final = pd.concat([x_train_scaled[numeric_cols], x_train_cat], axis=1)\n",
        "x_test_final = pd.concat([x_test_scaled[numeric_cols], x_test_cat], axis=1)\n",
        "print(f\"Final training features shape: {x_train_final.shape}\")\n",
        "print(f\"Final test features shape: {x_test_final.shape}\")"
      ],
      "metadata": {
        "colab": {
          "base_uri": "https://localhost:8080/"
        },
        "id": "d45pei-_Ucme",
        "outputId": "7fbf9e76-6d57-435b-db94-71567c5d5c75"
      },
      "execution_count": null,
      "outputs": [
        {
          "output_type": "stream",
          "name": "stdout",
          "text": [
            "Final training features shape: (8000, 10)\n",
            "Final test features shape: (2000, 10)\n"
          ]
        }
      ]
    },
    {
      "cell_type": "markdown",
      "metadata": {
        "id": "JULTtYoMHp7V"
      },
      "source": [
        "***Step 12 : Target Encoding and Synthetic Over-sampling (SMOTE)***\n",
        "  \n",
        "***We also apply `LabelEncoder` to convert the target labels (`ClaimStatus`) into numeric format. This prepares the labels for classification models like Random Forest, XGBoost, and ANN.***"
      ]
    },
    {
      "cell_type": "code",
      "execution_count": null,
      "metadata": {
        "id": "RzvnYXnrAMUZ"
      },
      "outputs": [],
      "source": [
        "from sklearn.preprocessing import LabelEncoder\n",
        "\n",
        "le = LabelEncoder()\n",
        "y_train_enc = le.fit_transform(y_train)\n",
        "y_test_enc = le.transform(y_test)"
      ]
    },
    {
      "cell_type": "markdown",
      "source": [
        "***SMOTE: It uses the Synthetic Minority Over-sampling Technique (SMOTE) to create new, artificial samples for the minority classes (Denied and Pending). The goal is to make all classes equally represented in the training set.***"
      ],
      "metadata": {
        "id": "B-c2dRvLfeqq"
      }
    },
    {
      "cell_type": "code",
      "source": [
        "from imblearn.over_sampling import SMOTE\n",
        "\n",
        "smote = SMOTE(random_state=42)\n",
        "x_train_bal, y_train_bal = smote.fit_resample(x_train_final, y_train_enc)"
      ],
      "metadata": {
        "id": "nYe3BzkLffPd"
      },
      "execution_count": null,
      "outputs": []
    },
    {
      "cell_type": "markdown",
      "metadata": {
        "id": "iv_yLNM4VRMo"
      },
      "source": [
        "***Normalized Data***"
      ]
    },
    {
      "cell_type": "code",
      "execution_count": null,
      "metadata": {
        "colab": {
          "base_uri": "https://localhost:8080/",
          "height": 224
        },
        "id": "UtzUj37TTjAi",
        "outputId": "65915820-6833-4515-8a28-6070b1eef509"
      },
      "outputs": [
        {
          "output_type": "execute_result",
          "data": {
            "text/plain": [
              "      BilledAmount  AllowedAmount  Days_to_File  BilledToAllowedRatio  \\\n",
              "4193     -1.046576      -0.963913     -0.097462             -0.389471   \n",
              "985       1.547290       1.615734      0.497497             -0.341976   \n",
              "2517     -1.086746      -1.004518     -0.935813             -0.388612   \n",
              "39       -1.189566      -1.110862     -0.638333             -0.368330   \n",
              "6297      1.674647       1.846210     -0.043375             -0.480808   \n",
              "\n",
              "      Is_Out_Of_Network_True  Is_Policy_Active_True  PatientGender_M  \\\n",
              "4193                   False                  False             True   \n",
              "985                    False                   True             True   \n",
              "2517                   False                   True             True   \n",
              "39                     False                   True             True   \n",
              "6297                   False                   True             True   \n",
              "\n",
              "      ProviderSpecialty_Internal Medicine  ProviderSpecialty_Physical Therapy  \\\n",
              "4193                                 True                               False   \n",
              "985                                  True                               False   \n",
              "2517                                False                               False   \n",
              "39                                   True                               False   \n",
              "6297                                False                               False   \n",
              "\n",
              "      ProviderSpecialty_Radiology  \n",
              "4193                        False  \n",
              "985                         False  \n",
              "2517                        False  \n",
              "39                          False  \n",
              "6297                        False  "
            ],
            "text/html": [
              "\n",
              "  <div id=\"df-1b2db60c-2237-4e96-8288-bdc4c265002e\" class=\"colab-df-container\">\n",
              "    <div>\n",
              "<style scoped>\n",
              "    .dataframe tbody tr th:only-of-type {\n",
              "        vertical-align: middle;\n",
              "    }\n",
              "\n",
              "    .dataframe tbody tr th {\n",
              "        vertical-align: top;\n",
              "    }\n",
              "\n",
              "    .dataframe thead th {\n",
              "        text-align: right;\n",
              "    }\n",
              "</style>\n",
              "<table border=\"1\" class=\"dataframe\">\n",
              "  <thead>\n",
              "    <tr style=\"text-align: right;\">\n",
              "      <th></th>\n",
              "      <th>BilledAmount</th>\n",
              "      <th>AllowedAmount</th>\n",
              "      <th>Days_to_File</th>\n",
              "      <th>BilledToAllowedRatio</th>\n",
              "      <th>Is_Out_Of_Network_True</th>\n",
              "      <th>Is_Policy_Active_True</th>\n",
              "      <th>PatientGender_M</th>\n",
              "      <th>ProviderSpecialty_Internal Medicine</th>\n",
              "      <th>ProviderSpecialty_Physical Therapy</th>\n",
              "      <th>ProviderSpecialty_Radiology</th>\n",
              "    </tr>\n",
              "  </thead>\n",
              "  <tbody>\n",
              "    <tr>\n",
              "      <th>4193</th>\n",
              "      <td>-1.046576</td>\n",
              "      <td>-0.963913</td>\n",
              "      <td>-0.097462</td>\n",
              "      <td>-0.389471</td>\n",
              "      <td>False</td>\n",
              "      <td>False</td>\n",
              "      <td>True</td>\n",
              "      <td>True</td>\n",
              "      <td>False</td>\n",
              "      <td>False</td>\n",
              "    </tr>\n",
              "    <tr>\n",
              "      <th>985</th>\n",
              "      <td>1.547290</td>\n",
              "      <td>1.615734</td>\n",
              "      <td>0.497497</td>\n",
              "      <td>-0.341976</td>\n",
              "      <td>False</td>\n",
              "      <td>True</td>\n",
              "      <td>True</td>\n",
              "      <td>True</td>\n",
              "      <td>False</td>\n",
              "      <td>False</td>\n",
              "    </tr>\n",
              "    <tr>\n",
              "      <th>2517</th>\n",
              "      <td>-1.086746</td>\n",
              "      <td>-1.004518</td>\n",
              "      <td>-0.935813</td>\n",
              "      <td>-0.388612</td>\n",
              "      <td>False</td>\n",
              "      <td>True</td>\n",
              "      <td>True</td>\n",
              "      <td>False</td>\n",
              "      <td>False</td>\n",
              "      <td>False</td>\n",
              "    </tr>\n",
              "    <tr>\n",
              "      <th>39</th>\n",
              "      <td>-1.189566</td>\n",
              "      <td>-1.110862</td>\n",
              "      <td>-0.638333</td>\n",
              "      <td>-0.368330</td>\n",
              "      <td>False</td>\n",
              "      <td>True</td>\n",
              "      <td>True</td>\n",
              "      <td>True</td>\n",
              "      <td>False</td>\n",
              "      <td>False</td>\n",
              "    </tr>\n",
              "    <tr>\n",
              "      <th>6297</th>\n",
              "      <td>1.674647</td>\n",
              "      <td>1.846210</td>\n",
              "      <td>-0.043375</td>\n",
              "      <td>-0.480808</td>\n",
              "      <td>False</td>\n",
              "      <td>True</td>\n",
              "      <td>True</td>\n",
              "      <td>False</td>\n",
              "      <td>False</td>\n",
              "      <td>False</td>\n",
              "    </tr>\n",
              "  </tbody>\n",
              "</table>\n",
              "</div>\n",
              "    <div class=\"colab-df-buttons\">\n",
              "\n",
              "  <div class=\"colab-df-container\">\n",
              "    <button class=\"colab-df-convert\" onclick=\"convertToInteractive('df-1b2db60c-2237-4e96-8288-bdc4c265002e')\"\n",
              "            title=\"Convert this dataframe to an interactive table.\"\n",
              "            style=\"display:none;\">\n",
              "\n",
              "  <svg xmlns=\"http://www.w3.org/2000/svg\" height=\"24px\" viewBox=\"0 -960 960 960\">\n",
              "    <path d=\"M120-120v-720h720v720H120Zm60-500h600v-160H180v160Zm220 220h160v-160H400v160Zm0 220h160v-160H400v160ZM180-400h160v-160H180v160Zm440 0h160v-160H620v160ZM180-180h160v-160H180v160Zm440 0h160v-160H620v160Z\"/>\n",
              "  </svg>\n",
              "    </button>\n",
              "\n",
              "  <style>\n",
              "    .colab-df-container {\n",
              "      display:flex;\n",
              "      gap: 12px;\n",
              "    }\n",
              "\n",
              "    .colab-df-convert {\n",
              "      background-color: #E8F0FE;\n",
              "      border: none;\n",
              "      border-radius: 50%;\n",
              "      cursor: pointer;\n",
              "      display: none;\n",
              "      fill: #1967D2;\n",
              "      height: 32px;\n",
              "      padding: 0 0 0 0;\n",
              "      width: 32px;\n",
              "    }\n",
              "\n",
              "    .colab-df-convert:hover {\n",
              "      background-color: #E2EBFA;\n",
              "      box-shadow: 0px 1px 2px rgba(60, 64, 67, 0.3), 0px 1px 3px 1px rgba(60, 64, 67, 0.15);\n",
              "      fill: #174EA6;\n",
              "    }\n",
              "\n",
              "    .colab-df-buttons div {\n",
              "      margin-bottom: 4px;\n",
              "    }\n",
              "\n",
              "    [theme=dark] .colab-df-convert {\n",
              "      background-color: #3B4455;\n",
              "      fill: #D2E3FC;\n",
              "    }\n",
              "\n",
              "    [theme=dark] .colab-df-convert:hover {\n",
              "      background-color: #434B5C;\n",
              "      box-shadow: 0px 1px 3px 1px rgba(0, 0, 0, 0.15);\n",
              "      filter: drop-shadow(0px 1px 2px rgba(0, 0, 0, 0.3));\n",
              "      fill: #FFFFFF;\n",
              "    }\n",
              "  </style>\n",
              "\n",
              "    <script>\n",
              "      const buttonEl =\n",
              "        document.querySelector('#df-1b2db60c-2237-4e96-8288-bdc4c265002e button.colab-df-convert');\n",
              "      buttonEl.style.display =\n",
              "        google.colab.kernel.accessAllowed ? 'block' : 'none';\n",
              "\n",
              "      async function convertToInteractive(key) {\n",
              "        const element = document.querySelector('#df-1b2db60c-2237-4e96-8288-bdc4c265002e');\n",
              "        const dataTable =\n",
              "          await google.colab.kernel.invokeFunction('convertToInteractive',\n",
              "                                                    [key], {});\n",
              "        if (!dataTable) return;\n",
              "\n",
              "        const docLinkHtml = 'Like what you see? Visit the ' +\n",
              "          '<a target=\"_blank\" href=https://colab.research.google.com/notebooks/data_table.ipynb>data table notebook</a>'\n",
              "          + ' to learn more about interactive tables.';\n",
              "        element.innerHTML = '';\n",
              "        dataTable['output_type'] = 'display_data';\n",
              "        await google.colab.output.renderOutput(dataTable, element);\n",
              "        const docLink = document.createElement('div');\n",
              "        docLink.innerHTML = docLinkHtml;\n",
              "        element.appendChild(docLink);\n",
              "      }\n",
              "    </script>\n",
              "  </div>\n",
              "\n",
              "\n",
              "    <div id=\"df-0b02428e-c5d9-44e1-a2ed-64d619d7dc97\">\n",
              "      <button class=\"colab-df-quickchart\" onclick=\"quickchart('df-0b02428e-c5d9-44e1-a2ed-64d619d7dc97')\"\n",
              "                title=\"Suggest charts\"\n",
              "                style=\"display:none;\">\n",
              "\n",
              "<svg xmlns=\"http://www.w3.org/2000/svg\" height=\"24px\"viewBox=\"0 0 24 24\"\n",
              "     width=\"24px\">\n",
              "    <g>\n",
              "        <path d=\"M19 3H5c-1.1 0-2 .9-2 2v14c0 1.1.9 2 2 2h14c1.1 0 2-.9 2-2V5c0-1.1-.9-2-2-2zM9 17H7v-7h2v7zm4 0h-2V7h2v10zm4 0h-2v-4h2v4z\"/>\n",
              "    </g>\n",
              "</svg>\n",
              "      </button>\n",
              "\n",
              "<style>\n",
              "  .colab-df-quickchart {\n",
              "      --bg-color: #E8F0FE;\n",
              "      --fill-color: #1967D2;\n",
              "      --hover-bg-color: #E2EBFA;\n",
              "      --hover-fill-color: #174EA6;\n",
              "      --disabled-fill-color: #AAA;\n",
              "      --disabled-bg-color: #DDD;\n",
              "  }\n",
              "\n",
              "  [theme=dark] .colab-df-quickchart {\n",
              "      --bg-color: #3B4455;\n",
              "      --fill-color: #D2E3FC;\n",
              "      --hover-bg-color: #434B5C;\n",
              "      --hover-fill-color: #FFFFFF;\n",
              "      --disabled-bg-color: #3B4455;\n",
              "      --disabled-fill-color: #666;\n",
              "  }\n",
              "\n",
              "  .colab-df-quickchart {\n",
              "    background-color: var(--bg-color);\n",
              "    border: none;\n",
              "    border-radius: 50%;\n",
              "    cursor: pointer;\n",
              "    display: none;\n",
              "    fill: var(--fill-color);\n",
              "    height: 32px;\n",
              "    padding: 0;\n",
              "    width: 32px;\n",
              "  }\n",
              "\n",
              "  .colab-df-quickchart:hover {\n",
              "    background-color: var(--hover-bg-color);\n",
              "    box-shadow: 0 1px 2px rgba(60, 64, 67, 0.3), 0 1px 3px 1px rgba(60, 64, 67, 0.15);\n",
              "    fill: var(--button-hover-fill-color);\n",
              "  }\n",
              "\n",
              "  .colab-df-quickchart-complete:disabled,\n",
              "  .colab-df-quickchart-complete:disabled:hover {\n",
              "    background-color: var(--disabled-bg-color);\n",
              "    fill: var(--disabled-fill-color);\n",
              "    box-shadow: none;\n",
              "  }\n",
              "\n",
              "  .colab-df-spinner {\n",
              "    border: 2px solid var(--fill-color);\n",
              "    border-color: transparent;\n",
              "    border-bottom-color: var(--fill-color);\n",
              "    animation:\n",
              "      spin 1s steps(1) infinite;\n",
              "  }\n",
              "\n",
              "  @keyframes spin {\n",
              "    0% {\n",
              "      border-color: transparent;\n",
              "      border-bottom-color: var(--fill-color);\n",
              "      border-left-color: var(--fill-color);\n",
              "    }\n",
              "    20% {\n",
              "      border-color: transparent;\n",
              "      border-left-color: var(--fill-color);\n",
              "      border-top-color: var(--fill-color);\n",
              "    }\n",
              "    30% {\n",
              "      border-color: transparent;\n",
              "      border-left-color: var(--fill-color);\n",
              "      border-top-color: var(--fill-color);\n",
              "      border-right-color: var(--fill-color);\n",
              "    }\n",
              "    40% {\n",
              "      border-color: transparent;\n",
              "      border-right-color: var(--fill-color);\n",
              "      border-top-color: var(--fill-color);\n",
              "    }\n",
              "    60% {\n",
              "      border-color: transparent;\n",
              "      border-right-color: var(--fill-color);\n",
              "    }\n",
              "    80% {\n",
              "      border-color: transparent;\n",
              "      border-right-color: var(--fill-color);\n",
              "      border-bottom-color: var(--fill-color);\n",
              "    }\n",
              "    90% {\n",
              "      border-color: transparent;\n",
              "      border-bottom-color: var(--fill-color);\n",
              "    }\n",
              "  }\n",
              "</style>\n",
              "\n",
              "      <script>\n",
              "        async function quickchart(key) {\n",
              "          const quickchartButtonEl =\n",
              "            document.querySelector('#' + key + ' button');\n",
              "          quickchartButtonEl.disabled = true;  // To prevent multiple clicks.\n",
              "          quickchartButtonEl.classList.add('colab-df-spinner');\n",
              "          try {\n",
              "            const charts = await google.colab.kernel.invokeFunction(\n",
              "                'suggestCharts', [key], {});\n",
              "          } catch (error) {\n",
              "            console.error('Error during call to suggestCharts:', error);\n",
              "          }\n",
              "          quickchartButtonEl.classList.remove('colab-df-spinner');\n",
              "          quickchartButtonEl.classList.add('colab-df-quickchart-complete');\n",
              "        }\n",
              "        (() => {\n",
              "          let quickchartButtonEl =\n",
              "            document.querySelector('#df-0b02428e-c5d9-44e1-a2ed-64d619d7dc97 button');\n",
              "          quickchartButtonEl.style.display =\n",
              "            google.colab.kernel.accessAllowed ? 'block' : 'none';\n",
              "        })();\n",
              "      </script>\n",
              "    </div>\n",
              "\n",
              "    </div>\n",
              "  </div>\n"
            ],
            "application/vnd.google.colaboratory.intrinsic+json": {
              "type": "dataframe",
              "variable_name": "x_train_final",
              "summary": "{\n  \"name\": \"x_train_final\",\n  \"rows\": 8000,\n  \"fields\": [\n    {\n      \"column\": \"BilledAmount\",\n      \"properties\": {\n        \"dtype\": \"number\",\n        \"std\": 1.0000625058599857,\n        \"min\": -1.7255908227380332,\n        \"max\": 1.7283378660889253,\n        \"num_unique_values\": 8000,\n        \"samples\": [\n          1.1556905377007296,\n          1.0698897188380971,\n          0.644928780243761\n        ],\n        \"semantic_type\": \"\",\n        \"description\": \"\"\n      }\n    },\n    {\n      \"column\": \"AllowedAmount\",\n      \"properties\": {\n        \"dtype\": \"number\",\n        \"std\": 1.0000625058599852,\n        \"min\": -1.6949039512753628,\n        \"max\": 1.9700851085953828,\n        \"num_unique_values\": 8000,\n        \"samples\": [\n          1.2678550908078032,\n          1.2499340382125514,\n          0.8154680724046485\n        ],\n        \"semantic_type\": \"\",\n        \"description\": \"\"\n      }\n    },\n    {\n      \"column\": \"Days_to_File\",\n      \"properties\": {\n        \"dtype\": \"number\",\n        \"std\": 1.0000625058599566,\n        \"min\": -0.93581271794087,\n        \"max\": 5.960300595233502,\n        \"num_unique_values\": 186,\n        \"samples\": [\n          1.5792403727462538,\n          3.391160341305795,\n          3.9320319737116276\n        ],\n        \"semantic_type\": \"\",\n        \"description\": \"\"\n      }\n    },\n    {\n      \"column\": \"BilledToAllowedRatio\",\n      \"properties\": {\n        \"dtype\": \"number\",\n        \"std\": 1.000062505859985,\n        \"min\": -0.5857807532688183,\n        \"max\": 3.573925605124647,\n        \"num_unique_values\": 8000,\n        \"samples\": [\n          -0.4103065817031529,\n          -0.5194802991422183,\n          -0.5295173118718253\n        ],\n        \"semantic_type\": \"\",\n        \"description\": \"\"\n      }\n    },\n    {\n      \"column\": \"Is_Out_Of_Network_True\",\n      \"properties\": {\n        \"dtype\": \"boolean\",\n        \"num_unique_values\": 2,\n        \"samples\": [\n          true,\n          false\n        ],\n        \"semantic_type\": \"\",\n        \"description\": \"\"\n      }\n    },\n    {\n      \"column\": \"Is_Policy_Active_True\",\n      \"properties\": {\n        \"dtype\": \"boolean\",\n        \"num_unique_values\": 2,\n        \"samples\": [\n          true,\n          false\n        ],\n        \"semantic_type\": \"\",\n        \"description\": \"\"\n      }\n    },\n    {\n      \"column\": \"PatientGender_M\",\n      \"properties\": {\n        \"dtype\": \"boolean\",\n        \"num_unique_values\": 2,\n        \"samples\": [\n          false,\n          true\n        ],\n        \"semantic_type\": \"\",\n        \"description\": \"\"\n      }\n    },\n    {\n      \"column\": \"ProviderSpecialty_Internal Medicine\",\n      \"properties\": {\n        \"dtype\": \"boolean\",\n        \"num_unique_values\": 2,\n        \"samples\": [\n          false,\n          true\n        ],\n        \"semantic_type\": \"\",\n        \"description\": \"\"\n      }\n    },\n    {\n      \"column\": \"ProviderSpecialty_Physical Therapy\",\n      \"properties\": {\n        \"dtype\": \"boolean\",\n        \"num_unique_values\": 2,\n        \"samples\": [\n          true,\n          false\n        ],\n        \"semantic_type\": \"\",\n        \"description\": \"\"\n      }\n    },\n    {\n      \"column\": \"ProviderSpecialty_Radiology\",\n      \"properties\": {\n        \"dtype\": \"boolean\",\n        \"num_unique_values\": 2,\n        \"samples\": [\n          true,\n          false\n        ],\n        \"semantic_type\": \"\",\n        \"description\": \"\"\n      }\n    }\n  ]\n}"
            }
          },
          "metadata": {},
          "execution_count": 22
        }
      ],
      "source": [
        "x_train_final.head()"
      ]
    },
    {
      "cell_type": "code",
      "execution_count": null,
      "metadata": {
        "colab": {
          "base_uri": "https://localhost:8080/"
        },
        "id": "9rrGIwGxD42P",
        "outputId": "0a4764b3-baa4-4b89-fc2c-97302ef99174"
      },
      "outputs": [
        {
          "output_type": "execute_result",
          "data": {
            "text/plain": [
              "array([0, 1, 2])"
            ]
          },
          "metadata": {},
          "execution_count": 23
        }
      ],
      "source": [
        "np.unique(y_train_enc)"
      ]
    },
    {
      "cell_type": "markdown",
      "metadata": {
        "id": "bAskPmSUVWqe"
      },
      "source": [
        "***Normalized Data***"
      ]
    },
    {
      "cell_type": "code",
      "execution_count": null,
      "metadata": {
        "colab": {
          "base_uri": "https://localhost:8080/",
          "height": 224
        },
        "id": "R7FGVpx6UffS",
        "outputId": "546ed612-102e-4726-a0af-d0213f382de8"
      },
      "outputs": [
        {
          "output_type": "execute_result",
          "data": {
            "text/plain": [
              "      BilledAmount  AllowedAmount  Days_to_File  BilledToAllowedRatio  \\\n",
              "45        1.679228       1.025754     -0.935813              0.910871   \n",
              "2929      0.374605       0.531010      0.254105             -0.521495   \n",
              "7115      0.414026       0.598168      0.010713             -0.573453   \n",
              "6389      1.471337       1.648848     -0.421985             -0.496563   \n",
              "868       0.297052       0.426799      0.822020             -0.470688   \n",
              "\n",
              "      Is_Out_Of_Network_True  Is_Policy_Active_True  PatientGender_M  \\\n",
              "45                      True                   True             True   \n",
              "2929                   False                   True            False   \n",
              "7115                   False                   True            False   \n",
              "6389                   False                  False             True   \n",
              "868                    False                   True             True   \n",
              "\n",
              "      ProviderSpecialty_Internal Medicine  ProviderSpecialty_Physical Therapy  \\\n",
              "45                                   True                               False   \n",
              "2929                                False                               False   \n",
              "7115                                False                               False   \n",
              "6389                                False                               False   \n",
              "868                                  True                               False   \n",
              "\n",
              "      ProviderSpecialty_Radiology  \n",
              "45                          False  \n",
              "2929                         True  \n",
              "7115                        False  \n",
              "6389                        False  \n",
              "868                         False  "
            ],
            "text/html": [
              "\n",
              "  <div id=\"df-17f8dfd6-e0e4-4e12-928f-0ab1a8afc96e\" class=\"colab-df-container\">\n",
              "    <div>\n",
              "<style scoped>\n",
              "    .dataframe tbody tr th:only-of-type {\n",
              "        vertical-align: middle;\n",
              "    }\n",
              "\n",
              "    .dataframe tbody tr th {\n",
              "        vertical-align: top;\n",
              "    }\n",
              "\n",
              "    .dataframe thead th {\n",
              "        text-align: right;\n",
              "    }\n",
              "</style>\n",
              "<table border=\"1\" class=\"dataframe\">\n",
              "  <thead>\n",
              "    <tr style=\"text-align: right;\">\n",
              "      <th></th>\n",
              "      <th>BilledAmount</th>\n",
              "      <th>AllowedAmount</th>\n",
              "      <th>Days_to_File</th>\n",
              "      <th>BilledToAllowedRatio</th>\n",
              "      <th>Is_Out_Of_Network_True</th>\n",
              "      <th>Is_Policy_Active_True</th>\n",
              "      <th>PatientGender_M</th>\n",
              "      <th>ProviderSpecialty_Internal Medicine</th>\n",
              "      <th>ProviderSpecialty_Physical Therapy</th>\n",
              "      <th>ProviderSpecialty_Radiology</th>\n",
              "    </tr>\n",
              "  </thead>\n",
              "  <tbody>\n",
              "    <tr>\n",
              "      <th>45</th>\n",
              "      <td>1.679228</td>\n",
              "      <td>1.025754</td>\n",
              "      <td>-0.935813</td>\n",
              "      <td>0.910871</td>\n",
              "      <td>True</td>\n",
              "      <td>True</td>\n",
              "      <td>True</td>\n",
              "      <td>True</td>\n",
              "      <td>False</td>\n",
              "      <td>False</td>\n",
              "    </tr>\n",
              "    <tr>\n",
              "      <th>2929</th>\n",
              "      <td>0.374605</td>\n",
              "      <td>0.531010</td>\n",
              "      <td>0.254105</td>\n",
              "      <td>-0.521495</td>\n",
              "      <td>False</td>\n",
              "      <td>True</td>\n",
              "      <td>False</td>\n",
              "      <td>False</td>\n",
              "      <td>False</td>\n",
              "      <td>True</td>\n",
              "    </tr>\n",
              "    <tr>\n",
              "      <th>7115</th>\n",
              "      <td>0.414026</td>\n",
              "      <td>0.598168</td>\n",
              "      <td>0.010713</td>\n",
              "      <td>-0.573453</td>\n",
              "      <td>False</td>\n",
              "      <td>True</td>\n",
              "      <td>False</td>\n",
              "      <td>False</td>\n",
              "      <td>False</td>\n",
              "      <td>False</td>\n",
              "    </tr>\n",
              "    <tr>\n",
              "      <th>6389</th>\n",
              "      <td>1.471337</td>\n",
              "      <td>1.648848</td>\n",
              "      <td>-0.421985</td>\n",
              "      <td>-0.496563</td>\n",
              "      <td>False</td>\n",
              "      <td>False</td>\n",
              "      <td>True</td>\n",
              "      <td>False</td>\n",
              "      <td>False</td>\n",
              "      <td>False</td>\n",
              "    </tr>\n",
              "    <tr>\n",
              "      <th>868</th>\n",
              "      <td>0.297052</td>\n",
              "      <td>0.426799</td>\n",
              "      <td>0.822020</td>\n",
              "      <td>-0.470688</td>\n",
              "      <td>False</td>\n",
              "      <td>True</td>\n",
              "      <td>True</td>\n",
              "      <td>True</td>\n",
              "      <td>False</td>\n",
              "      <td>False</td>\n",
              "    </tr>\n",
              "  </tbody>\n",
              "</table>\n",
              "</div>\n",
              "    <div class=\"colab-df-buttons\">\n",
              "\n",
              "  <div class=\"colab-df-container\">\n",
              "    <button class=\"colab-df-convert\" onclick=\"convertToInteractive('df-17f8dfd6-e0e4-4e12-928f-0ab1a8afc96e')\"\n",
              "            title=\"Convert this dataframe to an interactive table.\"\n",
              "            style=\"display:none;\">\n",
              "\n",
              "  <svg xmlns=\"http://www.w3.org/2000/svg\" height=\"24px\" viewBox=\"0 -960 960 960\">\n",
              "    <path d=\"M120-120v-720h720v720H120Zm60-500h600v-160H180v160Zm220 220h160v-160H400v160Zm0 220h160v-160H400v160ZM180-400h160v-160H180v160Zm440 0h160v-160H620v160ZM180-180h160v-160H180v160Zm440 0h160v-160H620v160Z\"/>\n",
              "  </svg>\n",
              "    </button>\n",
              "\n",
              "  <style>\n",
              "    .colab-df-container {\n",
              "      display:flex;\n",
              "      gap: 12px;\n",
              "    }\n",
              "\n",
              "    .colab-df-convert {\n",
              "      background-color: #E8F0FE;\n",
              "      border: none;\n",
              "      border-radius: 50%;\n",
              "      cursor: pointer;\n",
              "      display: none;\n",
              "      fill: #1967D2;\n",
              "      height: 32px;\n",
              "      padding: 0 0 0 0;\n",
              "      width: 32px;\n",
              "    }\n",
              "\n",
              "    .colab-df-convert:hover {\n",
              "      background-color: #E2EBFA;\n",
              "      box-shadow: 0px 1px 2px rgba(60, 64, 67, 0.3), 0px 1px 3px 1px rgba(60, 64, 67, 0.15);\n",
              "      fill: #174EA6;\n",
              "    }\n",
              "\n",
              "    .colab-df-buttons div {\n",
              "      margin-bottom: 4px;\n",
              "    }\n",
              "\n",
              "    [theme=dark] .colab-df-convert {\n",
              "      background-color: #3B4455;\n",
              "      fill: #D2E3FC;\n",
              "    }\n",
              "\n",
              "    [theme=dark] .colab-df-convert:hover {\n",
              "      background-color: #434B5C;\n",
              "      box-shadow: 0px 1px 3px 1px rgba(0, 0, 0, 0.15);\n",
              "      filter: drop-shadow(0px 1px 2px rgba(0, 0, 0, 0.3));\n",
              "      fill: #FFFFFF;\n",
              "    }\n",
              "  </style>\n",
              "\n",
              "    <script>\n",
              "      const buttonEl =\n",
              "        document.querySelector('#df-17f8dfd6-e0e4-4e12-928f-0ab1a8afc96e button.colab-df-convert');\n",
              "      buttonEl.style.display =\n",
              "        google.colab.kernel.accessAllowed ? 'block' : 'none';\n",
              "\n",
              "      async function convertToInteractive(key) {\n",
              "        const element = document.querySelector('#df-17f8dfd6-e0e4-4e12-928f-0ab1a8afc96e');\n",
              "        const dataTable =\n",
              "          await google.colab.kernel.invokeFunction('convertToInteractive',\n",
              "                                                    [key], {});\n",
              "        if (!dataTable) return;\n",
              "\n",
              "        const docLinkHtml = 'Like what you see? Visit the ' +\n",
              "          '<a target=\"_blank\" href=https://colab.research.google.com/notebooks/data_table.ipynb>data table notebook</a>'\n",
              "          + ' to learn more about interactive tables.';\n",
              "        element.innerHTML = '';\n",
              "        dataTable['output_type'] = 'display_data';\n",
              "        await google.colab.output.renderOutput(dataTable, element);\n",
              "        const docLink = document.createElement('div');\n",
              "        docLink.innerHTML = docLinkHtml;\n",
              "        element.appendChild(docLink);\n",
              "      }\n",
              "    </script>\n",
              "  </div>\n",
              "\n",
              "\n",
              "    <div id=\"df-22655c0e-1a8c-4b3c-a5c6-7420e93ad5b3\">\n",
              "      <button class=\"colab-df-quickchart\" onclick=\"quickchart('df-22655c0e-1a8c-4b3c-a5c6-7420e93ad5b3')\"\n",
              "                title=\"Suggest charts\"\n",
              "                style=\"display:none;\">\n",
              "\n",
              "<svg xmlns=\"http://www.w3.org/2000/svg\" height=\"24px\"viewBox=\"0 0 24 24\"\n",
              "     width=\"24px\">\n",
              "    <g>\n",
              "        <path d=\"M19 3H5c-1.1 0-2 .9-2 2v14c0 1.1.9 2 2 2h14c1.1 0 2-.9 2-2V5c0-1.1-.9-2-2-2zM9 17H7v-7h2v7zm4 0h-2V7h2v10zm4 0h-2v-4h2v4z\"/>\n",
              "    </g>\n",
              "</svg>\n",
              "      </button>\n",
              "\n",
              "<style>\n",
              "  .colab-df-quickchart {\n",
              "      --bg-color: #E8F0FE;\n",
              "      --fill-color: #1967D2;\n",
              "      --hover-bg-color: #E2EBFA;\n",
              "      --hover-fill-color: #174EA6;\n",
              "      --disabled-fill-color: #AAA;\n",
              "      --disabled-bg-color: #DDD;\n",
              "  }\n",
              "\n",
              "  [theme=dark] .colab-df-quickchart {\n",
              "      --bg-color: #3B4455;\n",
              "      --fill-color: #D2E3FC;\n",
              "      --hover-bg-color: #434B5C;\n",
              "      --hover-fill-color: #FFFFFF;\n",
              "      --disabled-bg-color: #3B4455;\n",
              "      --disabled-fill-color: #666;\n",
              "  }\n",
              "\n",
              "  .colab-df-quickchart {\n",
              "    background-color: var(--bg-color);\n",
              "    border: none;\n",
              "    border-radius: 50%;\n",
              "    cursor: pointer;\n",
              "    display: none;\n",
              "    fill: var(--fill-color);\n",
              "    height: 32px;\n",
              "    padding: 0;\n",
              "    width: 32px;\n",
              "  }\n",
              "\n",
              "  .colab-df-quickchart:hover {\n",
              "    background-color: var(--hover-bg-color);\n",
              "    box-shadow: 0 1px 2px rgba(60, 64, 67, 0.3), 0 1px 3px 1px rgba(60, 64, 67, 0.15);\n",
              "    fill: var(--button-hover-fill-color);\n",
              "  }\n",
              "\n",
              "  .colab-df-quickchart-complete:disabled,\n",
              "  .colab-df-quickchart-complete:disabled:hover {\n",
              "    background-color: var(--disabled-bg-color);\n",
              "    fill: var(--disabled-fill-color);\n",
              "    box-shadow: none;\n",
              "  }\n",
              "\n",
              "  .colab-df-spinner {\n",
              "    border: 2px solid var(--fill-color);\n",
              "    border-color: transparent;\n",
              "    border-bottom-color: var(--fill-color);\n",
              "    animation:\n",
              "      spin 1s steps(1) infinite;\n",
              "  }\n",
              "\n",
              "  @keyframes spin {\n",
              "    0% {\n",
              "      border-color: transparent;\n",
              "      border-bottom-color: var(--fill-color);\n",
              "      border-left-color: var(--fill-color);\n",
              "    }\n",
              "    20% {\n",
              "      border-color: transparent;\n",
              "      border-left-color: var(--fill-color);\n",
              "      border-top-color: var(--fill-color);\n",
              "    }\n",
              "    30% {\n",
              "      border-color: transparent;\n",
              "      border-left-color: var(--fill-color);\n",
              "      border-top-color: var(--fill-color);\n",
              "      border-right-color: var(--fill-color);\n",
              "    }\n",
              "    40% {\n",
              "      border-color: transparent;\n",
              "      border-right-color: var(--fill-color);\n",
              "      border-top-color: var(--fill-color);\n",
              "    }\n",
              "    60% {\n",
              "      border-color: transparent;\n",
              "      border-right-color: var(--fill-color);\n",
              "    }\n",
              "    80% {\n",
              "      border-color: transparent;\n",
              "      border-right-color: var(--fill-color);\n",
              "      border-bottom-color: var(--fill-color);\n",
              "    }\n",
              "    90% {\n",
              "      border-color: transparent;\n",
              "      border-bottom-color: var(--fill-color);\n",
              "    }\n",
              "  }\n",
              "</style>\n",
              "\n",
              "      <script>\n",
              "        async function quickchart(key) {\n",
              "          const quickchartButtonEl =\n",
              "            document.querySelector('#' + key + ' button');\n",
              "          quickchartButtonEl.disabled = true;  // To prevent multiple clicks.\n",
              "          quickchartButtonEl.classList.add('colab-df-spinner');\n",
              "          try {\n",
              "            const charts = await google.colab.kernel.invokeFunction(\n",
              "                'suggestCharts', [key], {});\n",
              "          } catch (error) {\n",
              "            console.error('Error during call to suggestCharts:', error);\n",
              "          }\n",
              "          quickchartButtonEl.classList.remove('colab-df-spinner');\n",
              "          quickchartButtonEl.classList.add('colab-df-quickchart-complete');\n",
              "        }\n",
              "        (() => {\n",
              "          let quickchartButtonEl =\n",
              "            document.querySelector('#df-22655c0e-1a8c-4b3c-a5c6-7420e93ad5b3 button');\n",
              "          quickchartButtonEl.style.display =\n",
              "            google.colab.kernel.accessAllowed ? 'block' : 'none';\n",
              "        })();\n",
              "      </script>\n",
              "    </div>\n",
              "\n",
              "    </div>\n",
              "  </div>\n"
            ],
            "application/vnd.google.colaboratory.intrinsic+json": {
              "type": "dataframe",
              "variable_name": "x_test_final",
              "summary": "{\n  \"name\": \"x_test_final\",\n  \"rows\": 2000,\n  \"fields\": [\n    {\n      \"column\": \"BilledAmount\",\n      \"properties\": {\n        \"dtype\": \"number\",\n        \"std\": 1.0123043989167606,\n        \"min\": -1.7268157014581986,\n        \"max\": 1.727071944060698,\n        \"num_unique_values\": 2000,\n        \"samples\": [\n          -0.7677784954953139,\n          0.4572748701346963,\n          0.35925352251830633\n        ],\n        \"semantic_type\": \"\",\n        \"description\": \"\"\n      }\n    },\n    {\n      \"column\": \"AllowedAmount\",\n      \"properties\": {\n        \"dtype\": \"number\",\n        \"std\": 1.0095584302808815,\n        \"min\": -1.675953461787676,\n        \"max\": 1.9364651050224482,\n        \"num_unique_values\": 2000,\n        \"samples\": [\n          -0.6449760249871158,\n          0.6313805092675606,\n          0.4429150118563978\n        ],\n        \"semantic_type\": \"\",\n        \"description\": \"\"\n      }\n    },\n    {\n      \"column\": \"Days_to_File\",\n      \"properties\": {\n        \"dtype\": \"number\",\n        \"std\": 1.0233493967608813,\n        \"min\": -0.93581271794087,\n        \"max\": 3.986119136952211,\n        \"num_unique_values\": 157,\n        \"samples\": [\n          1.7685454440882955,\n          1.2817609749230456,\n          2.98550661700142\n        ],\n        \"semantic_type\": \"\",\n        \"description\": \"\"\n      }\n    },\n    {\n      \"column\": \"BilledToAllowedRatio\",\n      \"properties\": {\n        \"dtype\": \"number\",\n        \"std\": 1.0226263343754178,\n        \"min\": -0.5851779558422201,\n        \"max\": 3.5592519220484506,\n        \"num_unique_values\": 2000,\n        \"samples\": [\n          -0.5521423430889927,\n          -0.5501778487357563,\n          -0.3689936547277927\n        ],\n        \"semantic_type\": \"\",\n        \"description\": \"\"\n      }\n    },\n    {\n      \"column\": \"Is_Out_Of_Network_True\",\n      \"properties\": {\n        \"dtype\": \"boolean\",\n        \"num_unique_values\": 2,\n        \"samples\": [\n          false,\n          true\n        ],\n        \"semantic_type\": \"\",\n        \"description\": \"\"\n      }\n    },\n    {\n      \"column\": \"Is_Policy_Active_True\",\n      \"properties\": {\n        \"dtype\": \"boolean\",\n        \"num_unique_values\": 2,\n        \"samples\": [\n          false,\n          true\n        ],\n        \"semantic_type\": \"\",\n        \"description\": \"\"\n      }\n    },\n    {\n      \"column\": \"PatientGender_M\",\n      \"properties\": {\n        \"dtype\": \"boolean\",\n        \"num_unique_values\": 2,\n        \"samples\": [\n          false,\n          true\n        ],\n        \"semantic_type\": \"\",\n        \"description\": \"\"\n      }\n    },\n    {\n      \"column\": \"ProviderSpecialty_Internal Medicine\",\n      \"properties\": {\n        \"dtype\": \"boolean\",\n        \"num_unique_values\": 2,\n        \"samples\": [\n          false,\n          true\n        ],\n        \"semantic_type\": \"\",\n        \"description\": \"\"\n      }\n    },\n    {\n      \"column\": \"ProviderSpecialty_Physical Therapy\",\n      \"properties\": {\n        \"dtype\": \"boolean\",\n        \"num_unique_values\": 2,\n        \"samples\": [\n          true,\n          false\n        ],\n        \"semantic_type\": \"\",\n        \"description\": \"\"\n      }\n    },\n    {\n      \"column\": \"ProviderSpecialty_Radiology\",\n      \"properties\": {\n        \"dtype\": \"boolean\",\n        \"num_unique_values\": 2,\n        \"samples\": [\n          true,\n          false\n        ],\n        \"semantic_type\": \"\",\n        \"description\": \"\"\n      }\n    }\n  ]\n}"
            }
          },
          "metadata": {},
          "execution_count": 24
        }
      ],
      "source": [
        "x_test_final.head()"
      ]
    },
    {
      "cell_type": "code",
      "execution_count": null,
      "metadata": {
        "colab": {
          "base_uri": "https://localhost:8080/"
        },
        "id": "arT2L6QLEK2l",
        "outputId": "cb71944c-9ecd-4f06-9d80-170707ffa915"
      },
      "outputs": [
        {
          "output_type": "execute_result",
          "data": {
            "text/plain": [
              "array([0, 1, 2])"
            ]
          },
          "metadata": {},
          "execution_count": 25
        }
      ],
      "source": [
        "np.unique(y_test_enc)"
      ]
    },
    {
      "cell_type": "markdown",
      "metadata": {
        "id": "WTgjqwC3ent2"
      },
      "source": [
        "***Step 13 : To understand relationships between numeric features, we use a correlation heatmap. This helps identify patterns, feature importance.***"
      ]
    },
    {
      "cell_type": "code",
      "execution_count": null,
      "metadata": {
        "colab": {
          "base_uri": "https://localhost:8080/",
          "height": 739
        },
        "id": "nacM5iohZQKH",
        "outputId": "86f77b6f-ed60-45eb-b627-ca107c8838f8"
      },
      "outputs": [
        {
          "output_type": "display_data",
          "data": {
            "text/plain": [
              "<Figure size 800x700 with 2 Axes>"
            ],
            "image/png": "[encoded data removed]"
          },
          "metadata": {}
        }
      ],
      "source": [
        "plt.figure(figsize=(8,7))\n",
        "sns.heatmap(data.corr(numeric_only=True),annot=True, cmap='Blues',fmt=\".2f\", linewidths=0.5, linecolor='gray')\n",
        "plt.title(\"Correlation Heatmap of Numeric Features\", fontstyle=\"italic\", weight=\"bold\")\n",
        "plt.xlabel('features',fontstyle=\"italic\",weight=\"bold\")\n",
        "plt.ylabel(\"Features\", fontstyle=\"italic\",weight=\"bold\")\n",
        "plt.xticks(fontstyle=\"italic\",rotation=45)\n",
        "plt.yticks(fontstyle=\"italic\",rotation=0)\n",
        "plt.show()"
      ]
    },
    {
      "cell_type": "markdown",
      "source": [
        "***Step 14 : ANN Prep: to_categorical converts the numerical labels (0, 1, 2) into One-Hot Encoded vectors (e.g., $0 \\rightarrow [1, 0, 0]$), which is a format required for the output layer of the Neural Network.***"
      ],
      "metadata": {
        "id": "zuvU9gqWwdWZ"
      }
    },
    {
      "cell_type": "code",
      "source": [
        "from tensorflow.keras.utils import to_categorical\n",
        "\n",
        "y_train_onehot = to_categorical(y_train_bal, num_classes=3)\n",
        "y_test_onehot = to_categorical(y_test_enc,num_classes=3)\n",
        "\n",
        "print(\"\\nClass Distribution After SMOTE (y_train_bal):\")\n",
        "print(pd.Series(y_train_bal).value_counts())"
      ],
      "metadata": {
        "colab": {
          "base_uri": "https://localhost:8080/"
        },
        "id": "z9W4zxcBwuO-",
        "outputId": "5dd573cb-1bdc-4509-f567-3246c35a727d"
      },
      "execution_count": null,
      "outputs": [
        {
          "output_type": "stream",
          "name": "stdout",
          "text": [
            "\n",
            "Class Distribution After SMOTE (y_train_bal):\n",
            "0    3255\n",
            "1    3255\n",
            "2    3255\n",
            "Name: count, dtype: int64\n"
          ]
        }
      ]
    },
    {
      "cell_type": "markdown",
      "source": [
        "***Step 14  : Model Training and Evaluation: Random Forest***\n",
        "\n",
        "***Random Forest Hyperparameter Tuning***"
      ],
      "metadata": {
        "id": "eU8lkpV8yuXc"
      }
    },
    {
      "cell_type": "code",
      "execution_count": null,
      "metadata": {
        "colab": {
          "base_uri": "https://localhost:8080/"
        },
        "id": "naQTjLAEx8h8",
        "outputId": "09e974de-248a-4720-a841-0b9993efff7b"
      },
      "outputs": [
        {
          "output_type": "stream",
          "name": "stdout",
          "text": [
            "\n",
            "==================================================\n",
            "STARTING RANDOM FOREST TRAINING\n",
            "==================================================\n",
            "\n",
            "=== OPTIMIZED RANDOM FOREST RESULTS ===\n",
            "Accuracy (RF): 0.7395\n",
            "              precision    recall  f1-score   support\n",
            "\n",
            "           0       0.72      0.60      0.65       491\n",
            "           1       0.87      0.88      0.87       814\n",
            "           2       0.61      0.68      0.64       695\n",
            "\n",
            "    accuracy                           0.74      2000\n",
            "   macro avg       0.73      0.72      0.72      2000\n",
            "weighted avg       0.74      0.74      0.74      2000\n",
            "\n",
            "Confusion Matrix (RF):\n",
            " [[293   0 198]\n",
            " [  0 715  99]\n",
            " [114 110 471]]\n",
            "----------------------------------------------------------------\n"
          ]
        }
      ],
      "source": [
        "from sklearn.ensemble import RandomForestClassifier\n",
        "\n",
        "print(\"\\n\" + \"=\"*50)\n",
        "print(\"STARTING RANDOM FOREST TRAINING\")\n",
        "print(\"=\"*50)\n",
        "\n",
        "rf = RandomForestClassifier(\n",
        "    n_estimators=1500,\n",
        "    max_depth=20,\n",
        "    min_samples_split=4,\n",
        "    min_samples_leaf=2,\n",
        "    random_state=42,\n",
        "    n_jobs=-1\n",
        ")\n",
        "rf.fit(x_train_bal,y_train_bal)\n",
        "rf_preds = rf.predict(x_test_final)\n",
        "rf_acc = accuracy_score(y_test_enc,rf_preds)\n",
        "\n",
        "print(\"\\n=== OPTIMIZED RANDOM FOREST RESULTS ===\")\n",
        "print(f\"Accuracy (RF): {round(rf_acc, 4)}\")\n",
        "print(classification_report(y_test_enc, rf_preds))\n",
        "print(\"Confusion Matrix (RF):\\n\", confusion_matrix(y_test_enc, rf_preds))\n",
        "print(\"----------------------------------------------------------------\")"
      ]
    },
    {
      "cell_type": "markdown",
      "source": [
        "***Step 15 : Model Training and Evaluation : XGBoost***\n",
        "\n",
        "***XGBoost Hyperparameter Tuning***\n",
        "\n",
        "***It trains an XGBoost (Extreme Gradient Boosting) model. XGBoost is a boosting algorithm that builds trees sequentially, where each new tree tries to correct the errors made by the previous trees.***"
      ],
      "metadata": {
        "id": "IS1DKPur6Ui2"
      }
    },
    {
      "cell_type": "code",
      "execution_count": null,
      "metadata": {
        "colab": {
          "base_uri": "https://localhost:8080/"
        },
        "id": "JwcI07PA5Ny1",
        "outputId": "a235d524-9653-4761-bff2-ecf7c7162e3d"
      },
      "outputs": [
        {
          "output_type": "stream",
          "name": "stdout",
          "text": [
            "\n",
            "==================================================\n",
            "STARTING XGBOOST TRAINING\n",
            "==================================================\n"
          ]
        },
        {
          "output_type": "stream",
          "name": "stderr",
          "text": [
            "/usr/local/lib/python3.12/dist-packages/xgboost/training.py:199: UserWarning: [05:27:33] WARNING: /workspace/src/learner.cc:790: \n",
            "Parameters: { \"use_label_encoder\" } are not used.\n",
            "\n",
            "  bst.update(dtrain, iteration=i, fobj=obj)\n"
          ]
        },
        {
          "output_type": "stream",
          "name": "stdout",
          "text": [
            "\n",
            "=== OPTIMIZED XGBOOST RESULTS ===\n",
            "Accuracy (XGB): 0.739\n",
            "              precision    recall  f1-score   support\n",
            "\n",
            "           0       0.70      0.64      0.67       491\n",
            "           1       0.86      0.89      0.87       814\n",
            "           2       0.62      0.64      0.63       695\n",
            "\n",
            "    accuracy                           0.74      2000\n",
            "   macro avg       0.73      0.72      0.72      2000\n",
            "weighted avg       0.74      0.74      0.74      2000\n",
            "\n",
            "Confusion Matrix (XGB):\n",
            " [[312   0 179]\n",
            " [  0 723  91]\n",
            " [132 120 443]]\n",
            "----------------------------------------------------------------\n"
          ]
        }
      ],
      "source": [
        "from xgboost import XGBClassifier\n",
        "\n",
        "print(\"\\n\" + \"=\"*50)\n",
        "print(\"STARTING XGBOOST TRAINING\")\n",
        "print(\"=\"*50)\n",
        "\n",
        "xgb = XGBClassifier(\n",
        "    n_estimators=1000,\n",
        "    learning_rate=0.03,\n",
        "    max_depth=8,\n",
        "    colsample_bytree=0.8,\n",
        "    random_state=42,\n",
        "    eval_metric='mlogloss',\n",
        "    use_label_encoder=False\n",
        ")\n",
        "xgb.fit(x_train_bal, y_train_bal)\n",
        "xgb_preds = xgb.predict(x_test_final)\n",
        "xgb_acc = accuracy_score(y_test_enc, xgb_preds)\n",
        "\n",
        "print(\"\\n=== OPTIMIZED XGBOOST RESULTS ===\")\n",
        "print(f\"Accuracy (XGB): {round(xgb_acc, 4)}\")\n",
        "print(classification_report(y_test_enc, xgb_preds))\n",
        "print(\"Confusion Matrix (XGB):\\n\", confusion_matrix(y_test_enc, xgb_preds))\n",
        "print(\"----------------------------------------------------------------\")"
      ]
    },
    {
      "cell_type": "markdown",
      "source": [
        "***Step 16 : Model Training and Evaluation: Artificial Neural Network (ANN)***\n",
        "\n",
        "***It builds a simple Sequential Neural Network with multiple hidden layers and trains it using the balanced data.***"
      ],
      "metadata": {
        "id": "oQM1c-s79Zli"
      }
    },
    {
      "cell_type": "code",
      "source": [
        "import tensorflow as tf\n",
        "from tensorflow.keras.models import Sequential\n",
        "from tensorflow.keras.layers import Dense, Dropout\n",
        "from tensorflow.keras.utils import to_categorical\n",
        "\n",
        "print(\"\\n\" + \"=\"*50)\n",
        "print(\"STARTING ARTIFICIAL NEURAL NETWORK (ANN) TRAINING\")\n",
        "print(\"=\"*50)\n",
        "\n",
        "input_dim = x_train_bal.shape[1]\n",
        "output_classes = y_train_onehot.shape[1]\n",
        "\n",
        "ann_model = Sequential()\n",
        "ann_model.add(Dense(units=128, activation='relu', input_shape=(input_dim,)))\n",
        "ann_model.add(Dropout(0.4))\n",
        "ann_model.add(Dense(units=64, activation='relu'))\n",
        "ann_model.add(Dropout(0.3))\n",
        "ann_model.add(Dense(units=32, activation='relu'))\n",
        "ann_model.add(Dropout(0.2))\n",
        "ann_model.add(Dense(units=output_classes, activation='softmax'))\n",
        "\n",
        "ann_model.compile(\n",
        "    optimizer=tf.keras.optimizers.Adam(learning_rate=0.001),\n",
        "    loss='categorical_crossentropy',\n",
        "    metrics=['accuracy']\n",
        ")\n",
        "\n",
        "history = ann_model.fit(\n",
        "    x_train_bal, y_train_onehot,\n",
        "    batch_size=32,\n",
        "    epochs=200,\n",
        "    validation_data=(x_test_final, y_test_onehot),\n",
        "    verbose=0\n",
        ")\n",
        "\n",
        "loss, ann_acc = ann_model.evaluate(x_test_final, y_test_onehot, verbose=0)\n",
        "ann_preds_prob = ann_model.predict(x_test_final, verbose=0)\n",
        "ann_preds = np.argmax(ann_preds_prob, axis=1)\n",
        "\n",
        "print(\"\\n=== ARTIFICIAL NEURAL NETWORK (ANN) RESULTS ===\")\n",
        "print(f\"ANN Accuracy: {ann_acc:.4f}\")\n",
        "print(classification_report(y_test_enc, ann_preds))\n",
        "print(\"Confusion Matrix (ANN):\\n\", confusion_matrix(y_test_enc, ann_preds))\n",
        "print(\"=\"*50 + \"\\n\")"
      ],
      "metadata": {
        "colab": {
          "base_uri": "https://localhost:8080/"
        },
        "id": "E6qntDjn9aDP",
        "outputId": "380b88b7-96ee-4fdf-91c6-1d0da3ef6354"
      },
      "execution_count": null,
      "outputs": [
        {
          "output_type": "stream",
          "name": "stdout",
          "text": [
            "\n",
            "==================================================\n",
            "STARTING ARTIFICIAL NEURAL NETWORK (ANN) TRAINING\n",
            "==================================================\n"
          ]
        },
        {
          "output_type": "stream",
          "name": "stderr",
          "text": [
            "/usr/local/lib/python3.12/dist-packages/keras/src/layers/core/dense.py:93: UserWarning: Do not pass an `input_shape`/`input_dim` argument to a layer. When using Sequential models, prefer using an `Input(shape)` object as the first layer in the model instead.\n",
            "  super().__init__(activity_regularizer=activity_regularizer, **kwargs)\n"
          ]
        },
        {
          "output_type": "stream",
          "name": "stdout",
          "text": [
            "\n",
            "=== ARTIFICIAL NEURAL NETWORK (ANN) RESULTS ===\n",
            "ANN Accuracy: 0.7620\n",
            "              precision    recall  f1-score   support\n",
            "\n",
            "           0       0.76      0.60      0.67       491\n",
            "           1       0.89      0.87      0.88       814\n",
            "           2       0.63      0.75      0.69       695\n",
            "\n",
            "    accuracy                           0.76      2000\n",
            "   macro avg       0.76      0.74      0.75      2000\n",
            "weighted avg       0.77      0.76      0.76      2000\n",
            "\n",
            "Confusion Matrix (ANN):\n",
            " [[294   0 197]\n",
            " [  0 710 104]\n",
            " [ 91  84 520]]\n",
            "==================================================\n",
            "\n"
          ]
        }
      ]
    },
    {
      "cell_type": "markdown",
      "source": [
        "***Project Conclusion***\n",
        "\n",
        "***Conclusion and Final Model Performance***\n",
        "\n",
        "***We successfully executed a complete machine learning pipeline for classifying medical claims. The workflow included crucial steps like dropping non-predictive features, creating high-value Feature Engineering (like the BilledToAllowedRatio), applying Standard Scaling, and using SMOTE to balance the training data.***\n",
        "\n",
        "***The Artificial Neural Network proved to be the top performer, achieving the highest accuracy. While overall performance is strong, the model's main weakness lies in the Recall of Denied claims (Class 0). The next steps for optimization would involve techniques like Focal Loss or Class Weighting to specifically boost the prediction rate for these crucial minority classes.***"
      ],
      "metadata": {
        "id": "MC-TCgCWM1M4"
      }
    }
  ],
  "metadata": {
    "colab": {
      "provenance": []
    },
    "kernelspec": {
      "display_name": "Python 3",
      "name": "python3"
    },
    "language_info": {
      "name": "python"
    }
  },
  "nbformat": 4,
  "nbformat_minor": 0
}